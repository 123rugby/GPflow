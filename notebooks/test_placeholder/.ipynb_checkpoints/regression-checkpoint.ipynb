{
 "cells": [
  {
   "cell_type": "markdown",
   "metadata": {},
   "source": [
    "GP Regression with GPflow\n",
    "--\n",
    "\n",
    "*James Hensman, 2015, 2016*\n",
    "\n",
    "GP regression (with Gaussian noise) is the most straightforward GP model in GPflow. Because of the conjugacy of the latent process and the noise, the marginal likelihood $p(\\mathbf y\\,|\\,\\theta)$ can be computed exactly.\n",
    "\n",
    "This notebook shows how to build a GPR model, estimate the parameters $\\theta$ by both maximum likelihood and MCMC. "
   ]
  },
  {
   "cell_type": "code",
   "execution_count": 1,
   "metadata": {
    "ExecuteTime": {
     "end_time": "2016-06-24T08:26:41.273905",
     "start_time": "2016-06-24T08:26:41.269845"
    },
    "collapsed": false
   },
   "outputs": [],
   "source": [
    "import sys"
   ]
  },
  {
   "cell_type": "code",
   "execution_count": 2,
   "metadata": {
    "ExecuteTime": {
     "end_time": "2016-06-24T08:26:41.682305",
     "start_time": "2016-06-24T08:26:41.679892"
    },
    "collapsed": false
   },
   "outputs": [],
   "source": [
    "sys.path.append('../../')"
   ]
  },
  {
   "cell_type": "code",
   "execution_count": 3,
   "metadata": {
    "ExecuteTime": {
     "end_time": "2016-06-24T08:26:42.227112",
     "start_time": "2016-06-24T08:26:41.962677"
    },
    "collapsed": false
   },
   "outputs": [
    {
     "name": "stderr",
     "output_type": "stream",
     "text": [
      "/home/keisukefujii/anaconda2/envs/GPflow/lib/python2.7/site-packages/matplotlib/font_manager.py:273: UserWarning: Matplotlib is building the font cache using fc-list. This may take a moment.\n",
      "  warnings.warn('Matplotlib is building the font cache using fc-list. This may take a moment.')\n"
     ]
    }
   ],
   "source": [
    "import numpy as np\n",
    "from matplotlib import pyplot as plt\n",
    "%matplotlib inline"
   ]
  },
  {
   "cell_type": "code",
   "execution_count": 4,
   "metadata": {
    "ExecuteTime": {
     "end_time": "2016-06-24T08:26:42.876239",
     "start_time": "2016-06-24T08:26:42.228702"
    },
    "collapsed": false
   },
   "outputs": [
    {
     "name": "stdout",
     "output_type": "stream",
     "text": [
      "../../GPflow/__init__.pyc\n"
     ]
    }
   ],
   "source": [
    "import GPflow\n",
    "print GPflow.__file__"
   ]
  },
  {
   "cell_type": "code",
   "execution_count": 5,
   "metadata": {
    "ExecuteTime": {
     "end_time": "2016-06-24T08:26:42.885063",
     "start_time": "2016-06-24T08:26:42.878310"
    },
    "collapsed": false
   },
   "outputs": [
    {
     "data": {
      "text/plain": [
       "<module 'GPflow' from '../../GPflow/__init__.pyc'>"
      ]
     },
     "execution_count": 5,
     "metadata": {},
     "output_type": "execute_result"
    }
   ],
   "source": [
    "reload(GPflow)"
   ]
  },
  {
   "cell_type": "code",
   "execution_count": 23,
   "metadata": {
    "ExecuteTime": {
     "end_time": "2016-06-24T08:26:43.136114",
     "start_time": "2016-06-24T08:26:42.886877"
    },
    "collapsed": false
   },
   "outputs": [
    {
     "data": {
      "text/plain": [
       "[<matplotlib.lines.Line2D at 0x7fba90761150>]"
      ]
     },
     "execution_count": 23,
     "metadata": {},
     "output_type": "execute_result"
    },
    {
     "data": {
      "image/png": "[encoded data removed]",
      "text/plain": [
       "<matplotlib.figure.Figure at 0x7fba90240190>"
      ]
     },
     "metadata": {},
     "output_type": "display_data"
    }
   ],
   "source": [
    "# build a very simple data set:\n",
    "np.random.seed(1)\n",
    "N = 12\n",
    "X = np.random.rand(N,1)\n",
    "Y = np.sin(12*X) + 0.66*np.cos(25*X) + np.random.randn(N,1)*0.1 + 3\n",
    "plt.figure()\n",
    "plt.plot(X, Y, 'kx', mew=2)"
   ]
  },
  {
   "cell_type": "markdown",
   "metadata": {},
   "source": [
    "Maximum Likelihood estimation\n",
    "--"
   ]
  },
  {
   "cell_type": "code",
   "execution_count": 36,
   "metadata": {
    "ExecuteTime": {
     "end_time": "2016-06-24T08:28:35.903872",
     "start_time": "2016-06-24T08:28:35.889675"
    },
    "collapsed": false
   },
   "outputs": [],
   "source": [
    "#build the GPR object\n",
    "k = GPflow.kernels.Matern52(1)\n",
    "meanf = GPflow.mean_functions.Linear(1,0)\n",
    "m = GPflow.gpr.GPR(X, Y, k, meanf)\n",
    "m.likelihood.variance = 0.01"
   ]
  },
  {
   "cell_type": "code",
   "execution_count": 37,
   "metadata": {
    "ExecuteTime": {
     "end_time": "2016-06-24T08:28:36.173224",
     "start_time": "2016-06-24T08:28:36.164831"
    },
    "collapsed": false
   },
   "outputs": [
    {
     "name": "stdout",
     "output_type": "stream",
     "text": [
      "Here are the parameters before optimization\n"
     ]
    },
    {
     "data": {
      "text/html": [
       "<table id='params' width=100%><tr><td>Name</td><td>values</td><td>prior</td><td>constraint</td></tr><tr><td>model.kern.lengthscales</td><td>[ 1.]</td><td>None</td><td>+ve</td></tr><tr><td>model.kern.variance</td><td>[ 1.]</td><td>None</td><td>+ve</td></tr><tr><td>model.mean_function.b</td><td>[ 0.]</td><td>None</td><td>(none)</td></tr><tr><td>model.mean_function.A</td><td>[[ 1.]]</td><td>None</td><td>(none)</td></tr><tr><td>model.likelihood.variance</td><td>[ 0.01]</td><td>None</td><td>+ve</td></tr></table>"
      ],
      "text/plain": [
       "<GPflow.gpr.GPR at 0x7fba849f18d0>"
      ]
     },
     "execution_count": 37,
     "metadata": {},
     "output_type": "execute_result"
    }
   ],
   "source": [
    "print \"Here are the parameters before optimization\"\n",
    "m"
   ]
  },
  {
   "cell_type": "code",
   "execution_count": 38,
   "metadata": {
    "ExecuteTime": {
     "end_time": "2016-06-24T08:28:38.840904",
     "start_time": "2016-06-24T08:28:38.232154"
    },
    "collapsed": false
   },
   "outputs": [
    {
     "name": "stdout",
     "output_type": "stream",
     "text": [
      "compiling tensorflow function...\n",
      "done\n"
     ]
    }
   ],
   "source": [
    "m._compile()"
   ]
  },
  {
   "cell_type": "code",
   "execution_count": 39,
   "metadata": {
    "collapsed": false
   },
   "outputs": [
    {
     "data": {
      "text/plain": [
       "{<tf.Tensor 'X_2:0' shape=(12, 1) dtype=float64>: array([[  4.17022005e-01],\n",
       "        [  7.20324493e-01],\n",
       "        [  1.14374817e-04],\n",
       "        [  3.02332573e-01],\n",
       "        [  1.46755891e-01],\n",
       "        [  9.23385948e-02],\n",
       "        [  1.86260211e-01],\n",
       "        [  3.45560727e-01],\n",
       "        [  3.96767474e-01],\n",
       "        [  5.38816734e-01],\n",
       "        [  4.19194514e-01],\n",
       "        [  6.85219500e-01]]),\n",
       " <tf.Tensor 'Y_2:0' shape=(12, 1) dtype=float64>: array([[ 1.71802732],\n",
       "        [ 4.11878612],\n",
       "        [ 3.80758059],\n",
       "        [ 2.51885072],\n",
       "        [ 3.37936074],\n",
       "        [ 3.41253784],\n",
       "        [ 3.86384527],\n",
       "        [ 1.57925429],\n",
       "        [ 1.4029841 ],\n",
       "        [ 3.50198292],\n",
       "        [ 1.72886003],\n",
       "        [ 3.89359394]])}"
      ]
     },
     "execution_count": 39,
     "metadata": {},
     "output_type": "execute_result"
    }
   ],
   "source": [
    "m._data_dict"
   ]
  },
  {
   "cell_type": "code",
   "execution_count": 40,
   "metadata": {
    "collapsed": true
   },
   "outputs": [],
   "source": [
    "import tensorflow as tf"
   ]
  },
  {
   "cell_type": "code",
   "execution_count": 41,
   "metadata": {
    "collapsed": false
   },
   "outputs": [
    {
     "data": {
      "text/plain": [
       "array([ 0.54132485,  0.54132485,  0.        ,  1.        , -4.60016602])"
      ]
     },
     "execution_count": 41,
     "metadata": {},
     "output_type": "execute_result"
    }
   ],
   "source": [
    "m.get_free_state()"
   ]
  },
  {
   "cell_type": "code",
   "execution_count": 42,
   "metadata": {
    "ExecuteTime": {
     "end_time": "2016-06-24T08:28:48.575317",
     "start_time": "2016-06-24T08:28:48.528693"
    },
    "collapsed": false
   },
   "outputs": [
    {
     "data": {
      "text/plain": [
       "[224.57827442941584,\n",
       " array([ 157.96397942,  -49.49054578,   -7.3189731 ,   -3.37633088,\n",
       "        -149.33621959])]"
      ]
     },
     "execution_count": 42,
     "metadata": {},
     "output_type": "execute_result"
    }
   ],
   "source": [
    "m._objective(m.get_free_state(), m._data_dict)"
   ]
  },
  {
   "cell_type": "code",
   "execution_count": 43,
   "metadata": {
    "ExecuteTime": {
     "end_time": "2016-06-24T08:29:02.741501",
     "start_time": "2016-06-24T08:29:02.697264"
    },
    "collapsed": false
   },
   "outputs": [
    {
     "name": "stdout",
     "output_type": "stream",
     "text": [
      "optimization terminated, setting model state\n",
      "Here are the parameters after optimization\n"
     ]
    },
    {
     "data": {
      "text/html": [
       "<table id='params' width=100%><tr><td>Name</td><td>values</td><td>prior</td><td>constraint</td></tr><tr><td>model.kern.lengthscales</td><td>[ 0.10131151]</td><td>None</td><td>+ve</td></tr><tr><td>model.kern.variance</td><td>[ 0.79209109]</td><td>None</td><td>+ve</td></tr><tr><td>model.mean_function.b</td><td>[ 3.25050611]</td><td>None</td><td>(none)</td></tr><tr><td>model.mean_function.A</td><td>[[ 0.37110123]]</td><td>None</td><td>(none)</td></tr><tr><td>model.likelihood.variance</td><td>[ 0.00037948]</td><td>None</td><td>+ve</td></tr></table>"
      ],
      "text/plain": [
       "<GPflow.gpr.GPR at 0x7fba849f18d0>"
      ]
     },
     "execution_count": 43,
     "metadata": {},
     "output_type": "execute_result"
    }
   ],
   "source": [
    "m.optimize()\n",
    "print \"Here are the parameters after optimization\"\n",
    "m"
   ]
  },
  {
   "cell_type": "code",
   "execution_count": 44,
   "metadata": {
    "collapsed": false
   },
   "outputs": [],
   "source": [
    "m._data_dict[m.Y] = Y*10."
   ]
  },
  {
   "cell_type": "code",
   "execution_count": 45,
   "metadata": {
    "ExecuteTime": {
     "end_time": "2016-06-24T08:29:02.741501",
     "start_time": "2016-06-24T08:29:02.697264"
    },
    "collapsed": false
   },
   "outputs": [
    {
     "name": "stdout",
     "output_type": "stream",
     "text": [
      "optimization terminated, setting model state\n",
      "Here are the parameters after optimization\n"
     ]
    },
    {
     "data": {
      "text/html": [
       "<table id='params' width=100%><tr><td>Name</td><td>values</td><td>prior</td><td>constraint</td></tr><tr><td>model.kern.lengthscales</td><td>[ 0.10131174]</td><td>None</td><td>+ve</td></tr><tr><td>model.kern.variance</td><td>[ 79.20919259]</td><td>None</td><td>+ve</td></tr><tr><td>model.mean_function.b</td><td>[ 32.50503651]</td><td>None</td><td>(none)</td></tr><tr><td>model.mean_function.A</td><td>[[ 3.71091822]]</td><td>None</td><td>(none)</td></tr><tr><td>model.likelihood.variance</td><td>[ 0.03794936]</td><td>None</td><td>+ve</td></tr></table>"
      ],
      "text/plain": [
       "<GPflow.gpr.GPR at 0x7fba849f18d0>"
      ]
     },
     "execution_count": 45,
     "metadata": {},
     "output_type": "execute_result"
    }
   ],
   "source": [
    "m.optimize()\n",
    "print \"Here are the parameters after optimization\"\n",
    "m"
   ]
  },
  {
   "cell_type": "code",
   "execution_count": 46,
   "metadata": {
    "ExecuteTime": {
     "end_time": "2016-06-24T08:27:16.322631",
     "start_time": "2016-06-24T08:27:16.105827"
    },
    "collapsed": false
   },
   "outputs": [
    {
     "data": {
      "text/plain": [
       "[<matplotlib.lines.Line2D at 0x7fba577c9d10>,\n",
       " <matplotlib.lines.Line2D at 0x7fba577d6ad0>]"
      ]
     },
     "execution_count": 46,
     "metadata": {},
     "output_type": "execute_result"
    },
    {
     "data": {
      "image/png": "[encoded data removed]",
      "text/plain": [
       "<matplotlib.figure.Figure at 0x7fba57a25a50>"
      ]
     },
     "metadata": {},
     "output_type": "display_data"
    }
   ],
   "source": [
    "#plot!\n",
    "xx = np.linspace(-0.1, 1.1, 100)[:,None]\n",
    "mean, var = m.predict_y(xx)\n",
    "plt.figure()\n",
    "plt.plot(X, Y, 'kx', mew=2)\n",
    "plt.plot(xx, mean, 'b', lw=2)\n",
    "plt.plot(xx, mean + 2*np.sqrt(var), 'b--', xx, mean - 2*np.sqrt(var), 'b--', lw=1.2)\n"
   ]
  },
  {
   "cell_type": "code",
   "execution_count": 34,
   "metadata": {
    "ExecuteTime": {
     "end_time": "2016-06-24T08:23:28.012616",
     "start_time": "2016-06-24T08:23:27.535349"
    },
    "collapsed": false
   },
   "outputs": [
    {
     "name": "stdout",
     "output_type": "stream",
     "text": [
      "compiling tensorflow function...\n",
      "done\n"
     ]
    }
   ],
   "source": [
    "m.likelihood.variance = 0.02\n",
    "m._compile()"
   ]
  },
  {
   "cell_type": "code",
   "execution_count": 35,
   "metadata": {
    "ExecuteTime": {
     "end_time": "2016-06-24T08:27:16.322631",
     "start_time": "2016-06-24T08:27:16.105827"
    },
    "collapsed": false
   },
   "outputs": [
    {
     "data": {
      "text/plain": [
       "[<matplotlib.lines.Line2D at 0x7fba57a0bd10>,\n",
       " <matplotlib.lines.Line2D at 0x7fba57a19ad0>]"
      ]
     },
     "execution_count": 35,
     "metadata": {},
     "output_type": "execute_result"
    },
    {
     "data": {
      "image/png": "[encoded data removed]",
      "text/plain": [
       "<matplotlib.figure.Figure at 0x7fba847c5690>"
      ]
     },
     "metadata": {},
     "output_type": "display_data"
    }
   ],
   "source": [
    "#plot!\n",
    "xx = np.linspace(-0.1, 1.1, 100)[:,None]\n",
    "mean, var = m.predict_y(xx)\n",
    "plt.figure()\n",
    "plt.plot(X, Y, 'kx', mew=2)\n",
    "plt.plot(xx, mean, 'b', lw=2)\n",
    "plt.plot(xx, mean + 2*np.sqrt(var), 'b--', xx, mean - 2*np.sqrt(var), 'b--', lw=1.2)\n"
   ]
  },
  {
   "cell_type": "markdown",
   "metadata": {},
   "source": [
    "MCMC\n",
    "--\n",
    "First, we'll set come priors on the kernel parameters, then we'll run mcmc and see how much posterior uncertainty there is in the parameters."
   ]
  },
  {
   "cell_type": "code",
   "execution_count": 11,
   "metadata": {
    "ExecuteTime": {
     "end_time": "2016-06-23T22:38:47.254041",
     "start_time": "2016-06-23T22:38:47.225000"
    },
    "collapsed": false
   },
   "outputs": [
    {
     "data": {
      "text/html": [
       "<table id='params' width=100%><tr><td>Name</td><td>values</td><td>prior</td><td>constraint</td></tr><tr><td>model.kern.variance</td><td>[ 1.]</td><td>Ga([ 1.],[ 1.])</td><td>+ve</td></tr><tr><td>model.kern.lengthscales</td><td>[ 1.]</td><td>Ga([ 1.],[ 1.])</td><td>+ve</td></tr><tr><td>model.mean_function.A</td><td>[[ 1.]]</td><td>N([ 0.],[ 10.])</td><td>(none)</td></tr><tr><td>model.mean_function.b</td><td>[ 0.]</td><td>N([ 0.],[ 10.])</td><td>(none)</td></tr><tr><td>model.likelihood.variance</td><td>[ 0.01]</td><td>Ga([ 1.],[ 1.])</td><td>+ve</td></tr></table>"
      ],
      "text/plain": [
       "<GPflow.gpr.GPR at 0x7fdbc20ba910>"
      ]
     },
     "execution_count": 11,
     "metadata": {},
     "output_type": "execute_result"
    }
   ],
   "source": [
    "#we'll choose rather arbitrary priors. \n",
    "m.kern.lengthscales.prior = GPflow.priors.Gamma(1., 1.)\n",
    "m.kern.variance.prior = GPflow.priors.Gamma(1., 1.)\n",
    "m.likelihood.variance.prior = GPflow.priors.Gamma(1., 1.)\n",
    "m.mean_function.A.prior = GPflow.priors.Gaussian(0., 10.)\n",
    "m.mean_function.b.prior = GPflow.priors.Gaussian(0., 10.)\n",
    "m"
   ]
  },
  {
   "cell_type": "code",
   "execution_count": 12,
   "metadata": {
    "ExecuteTime": {
     "end_time": "2016-06-23T22:38:54.678506",
     "start_time": "2016-06-23T22:38:47.258377"
    },
    "collapsed": false
   },
   "outputs": [
    {
     "name": "stdout",
     "output_type": "stream",
     "text": [
      "compiling tensorflow function...\n",
      "done\n"
     ]
    },
    {
     "name": "stderr",
     "output_type": "stream",
     "text": [
      "../../GPflow/hmc.py:101: VisibleDeprecationWarning: using a non-integer number instead of an integer will result in an error in the future\n",
      "  samples[t/thin] = x_old\n"
     ]
    },
    {
     "name": "stdout",
     "output_type": "stream",
     "text": [
      "Iteration:  100 \t Acc Rate:  0.0 %\n",
      "Iteration:  200 \t Acc Rate:  0.0 %\n",
      "Iteration:  300 \t Acc Rate:  0.0 %\n",
      "Iteration:  400 \t Acc Rate:  0.0 %\n",
      "Iteration:  500 \t Acc Rate:  0.0 %\n"
     ]
    }
   ],
   "source": [
    "\n",
    "samples = m.sample(500, epsilon = 0.1, verbose=1)"
   ]
  },
  {
   "cell_type": "code",
   "execution_count": 13,
   "metadata": {
    "ExecuteTime": {
     "end_time": "2016-06-23T22:38:54.920705",
     "start_time": "2016-06-23T22:38:54.680014"
    },
    "collapsed": false
   },
   "outputs": [
    {
     "data": {
      "text/plain": [
       "[<matplotlib.lines.Line2D at 0x7fdbb9e163d0>,\n",
       " <matplotlib.lines.Line2D at 0x7fdbb9e165d0>,\n",
       " <matplotlib.lines.Line2D at 0x7fdbb9e16710>,\n",
       " <matplotlib.lines.Line2D at 0x7fdbb9e16850>,\n",
       " <matplotlib.lines.Line2D at 0x7fdbb9e16990>]"
      ]
     },
     "execution_count": 13,
     "metadata": {},
     "output_type": "execute_result"
    },
    {
     "data": {
      "image/png": "[encoded data removed]",
      "text/plain": [
       "<matplotlib.figure.Figure at 0x7fdbba38d910>"
      ]
     },
     "metadata": {},
     "output_type": "display_data"
    }
   ],
   "source": [
    "plt.figure()\n",
    "plt.plot(samples)"
   ]
  },
  {
   "cell_type": "code",
   "execution_count": 14,
   "metadata": {
    "ExecuteTime": {
     "end_time": "2016-06-23T22:38:55.725415",
     "start_time": "2016-06-23T22:38:54.928033"
    },
    "collapsed": false
   },
   "outputs": [
    {
     "data": {
      "text/plain": [
       "<matplotlib.text.Text at 0x7fdbba20be50>"
      ]
     },
     "execution_count": 14,
     "metadata": {},
     "output_type": "execute_result"
    },
    {
     "name": "stderr",
     "output_type": "stream",
     "text": [
      "/home/keisukefujii/anaconda2/envs/GPflow/lib/python2.7/site-packages/matplotlib/figure.py:1744: UserWarning: This figure includes Axes that are not compatible with tight_layout, so its results might be incorrect.\n",
      "  warnings.warn(\"This figure includes Axes that are not \"\n"
     ]
    },
    {
     "data": {
      "image/png": "[encoded data removed]",
      "text/plain": [
       "<matplotlib.figure.Figure at 0x7fdbba2dccd0>"
      ]
     },
     "metadata": {},
     "output_type": "display_data"
    }
   ],
   "source": [
    "#Note. All these labels are wrong (or, most probably wrong). We need some machinery for labelling posterior samples!\n",
    "\n",
    "f, axs = plt.subplots(1,3, figsize=(12,4), tight_layout=True)\n",
    "axs[0].plot(samples[:,0], samples[:,1], 'k.', alpha = 0.15)\n",
    "axs[0].set_xlabel('noise_variance')\n",
    "axs[0].set_ylabel('signal_variance')\n",
    "axs[1].plot(samples[:,0], samples[:,2], 'k.', alpha = 0.15)\n",
    "axs[1].set_xlabel('noise_variance')\n",
    "axs[1].set_ylabel('lengthscale')\n",
    "axs[2].plot(samples[:,2], samples[:,1], 'k.', alpha = 0.1)\n",
    "axs[2].set_xlabel('lengthscale')\n",
    "axs[2].set_ylabel('signal_variance')"
   ]
  },
  {
   "cell_type": "code",
   "execution_count": 15,
   "metadata": {
    "ExecuteTime": {
     "end_time": "2016-06-23T22:38:57.886614",
     "start_time": "2016-06-23T22:38:55.727367"
    },
    "collapsed": false
   },
   "outputs": [
    {
     "data": {
      "text/plain": [
       "[<matplotlib.lines.Line2D at 0x7fdbb9dba890>]"
      ]
     },
     "execution_count": 15,
     "metadata": {},
     "output_type": "execute_result"
    },
    {
     "data": {
      "image/png": "[encoded data removed]",
      "text/plain": [
       "<matplotlib.figure.Figure at 0x7fdbb9da8d90>"
      ]
     },
     "metadata": {},
     "output_type": "display_data"
    }
   ],
   "source": [
    "#an attempt to plot the function posterior\n",
    "#Note that we should really sample the function values here, instead of just using the mean. \n",
    "#We are under-representing the uncertainty here. \n",
    "# TODO: get full_covariance of the predictions (predict_f only?)\n",
    "\n",
    "plt.figure()\n",
    "\n",
    "for s in samples:\n",
    "    m.set_state(s)\n",
    "    mean, _ = m.predict_y(xx)\n",
    "    plt.plot(xx, mean, 'b', lw=2, alpha = 0.05)\n",
    "    \n",
    "plt.plot(X, Y, 'kx', mew=2)"
   ]
  },
  {
   "cell_type": "code",
   "execution_count": null,
   "metadata": {
    "collapsed": true
   },
   "outputs": [],
   "source": []
  },
  {
   "cell_type": "code",
   "execution_count": null,
   "metadata": {
    "collapsed": true
   },
   "outputs": [],
   "source": []
  },
  {
   "cell_type": "code",
   "execution_count": null,
   "metadata": {
    "collapsed": true
   },
   "outputs": [],
   "source": []
  }
 ],
 "metadata": {
  "kernelspec": {
   "display_name": "Python 2",
   "language": "python",
   "name": "python2"
  },
  "language_info": {
   "codemirror_mode": {
    "name": "ipython",
    "version": 2
   },
   "file_extension": ".py",
   "mimetype": "text/x-python",
   "name": "python",
   "nbconvert_exporter": "python",
   "pygments_lexer": "ipython2",
   "version": "2.7.11"
  },
  "latex_envs": {
   "bibliofile": "biblio.bib",
   "cite_by": "apalike",
   "current_citInitial": 1,
   "eqLabelWithNumbers": true,
   "eqNumInitial": 0
  },
  "toc": {
   "toc_cell": false,
   "toc_number_sections": true,
   "toc_threshold": 6,
   "toc_window_display": false
  }
 },
 "nbformat": 4,
 "nbformat_minor": 0
}
