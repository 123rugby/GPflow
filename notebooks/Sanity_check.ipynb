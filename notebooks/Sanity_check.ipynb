{
 "cells": [
  {
   "cell_type": "markdown",
   "metadata": {},
   "source": [
    "Sanity Check\n",
    "--\n",
    "\n",
    "Fit some approximations to a model with a *Gaussian* likelihood. Make sure they're all the same. "
   ]
  },
  {
   "cell_type": "code",
   "execution_count": 1,
   "metadata": {
    "collapsed": false
   },
   "outputs": [],
   "source": [
    "import GPflow\n",
    "import numpy as np\n",
    "from matplotlib import pyplot as plt\n",
    "%matplotlib inline\n",
    "import matplotlib\n",
    "matplotlib.style.use('ggplot')"
   ]
  },
  {
   "cell_type": "code",
   "execution_count": 2,
   "metadata": {
    "collapsed": false
   },
   "outputs": [
    {
     "data": {
      "text/plain": [
       "[<matplotlib.lines.Line2D at 0x10c217150>]"
      ]
     },
     "execution_count": 2,
     "metadata": {},
     "output_type": "execute_result"
    },
    {
     "data": {
      "image/png": "[encoded data removed]",
      "text/plain": [
       "<matplotlib.figure.Figure at 0x10c14e7d0>"
      ]
     },
     "metadata": {},
     "output_type": "display_data"
    }
   ],
   "source": [
    "X = np.random.rand(100,1)*10\n",
    "Y = np.sin(X) + 0.9 * np.cos(X*1.6) + np.random.randn(*X.shape)* 0.8\n",
    "plt.plot(X, Y, 'kx')"
   ]
  },
  {
   "cell_type": "code",
   "execution_count": 3,
   "metadata": {
    "collapsed": false
   },
   "outputs": [],
   "source": [
    "m1 = GPflow.gpr.GPR(X, Y, kern=GPflow.kernels.RBF(1))\n",
    "m2 = GPflow.vgp.VGP(X, Y, GPflow.kernels.RBF(1), likelihood=GPflow.likelihoods.Gaussian())\n",
    "m3 = GPflow.svgp.SVGP(X, Y, GPflow.kernels.RBF(1)+GPflow.kernels.White(1), likelihood=GPflow.likelihoods.Gaussian(), Z=X.copy(), q_diag=False)\n",
    "m3.Z.fixed = True\n",
    "m4 = GPflow.svgp.SVGP(X, Y, GPflow.kernels.RBF(1)+GPflow.kernels.White(1), likelihood=GPflow.likelihoods.Gaussian(), Z=X.copy(), q_diag=False, whiten=True)\n",
    "m4.Z.fixed=True\n",
    "m5 = GPflow.sgpr.SGPR(X, Y, GPflow.kernels.RBF(1)+GPflow.kernels.White(1), Z=X.copy())\n",
    "m5.Z.fixed = True"
   ]
  },
  {
   "cell_type": "code",
   "execution_count": 4,
   "metadata": {
    "collapsed": false
   },
   "outputs": [
    {
     "name": "stdout",
     "output_type": "stream",
     "text": [
      "compiling tensorflow function...\n",
      "done\n",
      "optimization terminated, setting model state\n",
      "compiling tensorflow function...\n",
      "done\n",
      "optimization terminated, setting model state\n",
      "compiling tensorflow function...\n",
      "done\n",
      "optimization terminated, setting model state\n",
      "compiling tensorflow function...\n",
      "done\n",
      "optimization terminated, setting model state\n",
      "compiling tensorflow function...\n",
      "done\n",
      "optimization terminated, setting model state\n"
     ]
    },
    {
     "data": {
      "text/plain": [
       "   status: 0\n",
       "  success: True\n",
       "     nfev: 234\n",
       " hess_inv: <10104x10104 LbfgsInvHessProduct with dtype=float64>\n",
       "      fun: 130.59836340927615\n",
       "        x: array([ -1.45357387e+01,   6.68303522e-01,   1.38435278e-01, ...,\n",
       "         1.80650687e-09,   7.45978031e-08,   1.00000122e+00])\n",
       "  message: 'CONVERGENCE: REL_REDUCTION_OF_F_<=_FACTR*EPSMCH'\n",
       "      jac: array([  9.42636774e-05,   1.85841986e-04,  -3.72976254e-04, ...,\n",
       "        -7.51637160e-10,   6.04538753e-08,   3.29681615e-06])\n",
       "      nit: 219"
      ]
     },
     "execution_count": 4,
     "metadata": {},
     "output_type": "execute_result"
    }
   ],
   "source": [
    "m5.optimize()\n",
    "m1.optimize()\n",
    "m2.optimize()\n",
    "m3.optimize()\n",
    "m4.optimize()"
   ]
  },
  {
   "cell_type": "code",
   "execution_count": null,
   "metadata": {
    "collapsed": false
   },
   "outputs": [],
   "source": [
    "xx = np.linspace(-1, 11, 100)[:,None]\n",
    "\n",
    "\n",
    "def plot(m, color, ax):\n",
    "    mu, var = m.predict_y(xx)\n",
    "    ax.plot(xx, mu, color, lw=2)\n",
    "    ax.plot(xx, mu+ 2*np.sqrt(var), color, xx, mu-2*np.sqrt(var), color, lw=1)\n",
    "    ax.plot(X, Y, 'kx')\n",
    "\n",
    "f, ax = plt.subplots(2,2,sharex=True, sharey=True, figsize=(12,9))\n",
    "plot(m1, 'b', ax[0,0])\n",
    "plot(m2, 'r', ax[1,0])\n",
    "plot(m3, 'g', ax[0,1])\n",
    "plot(m4, 'y', ax[1,1])\n"
   ]
  },
  {
   "cell_type": "code",
   "execution_count": 5,
   "metadata": {
    "collapsed": false
   },
   "outputs": [
    {
     "data": {
      "text/html": [
       "<table id='parms' width=100%><tr><td>Name</td><td>values</td><td>prior</td><td>constriant</td></tr><tr><td>kern.variance</td><td>[ 1.08289526]</td><td>None</td><td>+ve</td></tr><tr><td>kern.lengthscales</td><td>[ 0.7659497]</td><td>None</td><td>+ve</td></tr></table>"
      ],
      "text/plain": [
       "<GPflow.kernels.RBF at 0x10c0f5250>"
      ]
     },
     "execution_count": 5,
     "metadata": {},
     "output_type": "execute_result"
    }
   ],
   "source": [
    "m1.kern"
   ]
  },
  {
   "cell_type": "code",
   "execution_count": 6,
   "metadata": {
    "collapsed": false
   },
   "outputs": [
    {
     "data": {
      "text/html": [
       "<table id='parms' width=100%><tr><td>Name</td><td>values</td><td>prior</td><td>constriant</td></tr><tr><td>kern.variance</td><td>[ 1.0886017]</td><td>None</td><td>+ve</td></tr><tr><td>kern.lengthscales</td><td>[ 0.77085542]</td><td>None</td><td>+ve</td></tr></table>"
      ],
      "text/plain": [
       "<GPflow.kernels.RBF at 0x10c217710>"
      ]
     },
     "execution_count": 6,
     "metadata": {},
     "output_type": "execute_result"
    }
   ],
   "source": [
    "m2.kern"
   ]
  },
  {
   "cell_type": "code",
   "execution_count": 7,
   "metadata": {
    "collapsed": false
   },
   "outputs": [
    {
     "data": {
      "text/html": [
       "<table id='parms' width=100%><tr><td>Name</td><td>values</td><td>prior</td><td>constriant</td></tr><tr><td>kern.rbf.variance</td><td>[ 1.08187458]</td><td>None</td><td>+ve</td></tr><tr><td>kern.rbf.lengthscales</td><td>[ 0.76449189]</td><td>None</td><td>+ve</td></tr><tr><td>kern.white.variance</td><td>[  7.38551171e-07]</td><td>None</td><td>+ve</td></tr></table>"
      ],
      "text/plain": [
       "<GPflow.kernels.Add at 0x10c1ff6d0>"
      ]
     },
     "execution_count": 7,
     "metadata": {},
     "output_type": "execute_result"
    }
   ],
   "source": [
    "m3.kern"
   ]
  },
  {
   "cell_type": "code",
   "execution_count": 8,
   "metadata": {
    "collapsed": false
   },
   "outputs": [
    {
     "data": {
      "text/html": [
       "<table id='parms' width=100%><tr><td>Name</td><td>values</td><td>prior</td><td>constriant</td></tr><tr><td>kern.white.variance</td><td>[  4.86641113e-07]</td><td>None</td><td>+ve</td></tr><tr><td>kern.rbf.variance</td><td>[ 1.08211862]</td><td>None</td><td>+ve</td></tr><tr><td>kern.rbf.lengthscales</td><td>[ 0.76475845]</td><td>None</td><td>+ve</td></tr></table>"
      ],
      "text/plain": [
       "<GPflow.kernels.Add at 0x10c434050>"
      ]
     },
     "execution_count": 8,
     "metadata": {},
     "output_type": "execute_result"
    }
   ],
   "source": [
    "m4.kern"
   ]
  },
  {
   "cell_type": "code",
   "execution_count": 10,
   "metadata": {
    "collapsed": false
   },
   "outputs": [
    {
     "data": {
      "text/html": [
       "<table id='parms' width=100%><tr><td>Name</td><td>values</td><td>prior</td><td>constriant</td></tr><tr><td>kern.rbf.variance</td><td>[ 1.08289542]</td><td>None</td><td>+ve</td></tr><tr><td>kern.rbf.lengthscales</td><td>[ 0.76597652]</td><td>None</td><td>+ve</td></tr><tr><td>kern.white.variance</td><td>[  6.69111520e-09]</td><td>None</td><td>+ve</td></tr></table>"
      ],
      "text/plain": [
       "<GPflow.kernels.Add at 0x10c434690>"
      ]
     },
     "execution_count": 10,
     "metadata": {},
     "output_type": "execute_result"
    }
   ],
   "source": [
    "m5.kern"
   ]
  },
  {
   "cell_type": "code",
   "execution_count": 11,
   "metadata": {
    "collapsed": false
   },
   "outputs": [
    {
     "name": "stdout",
     "output_type": "stream",
     "text": [
      "-130.598275688\n",
      "[-130.59959816]\n",
      "-130.598393695\n",
      "-130.598363409\n",
      "[-130.59830546]\n"
     ]
    }
   ],
   "source": [
    "print -m1._objective(m1.get_free_state())[0]\n",
    "print -m2._objective(m2.get_free_state())[0]\n",
    "print -m3._objective(m3.get_free_state())[0]\n",
    "print -m4._objective(m4.get_free_state())[0]\n",
    "print -m5._objective(m5.get_free_state())[0]"
   ]
  },
  {
   "cell_type": "code",
   "execution_count": null,
   "metadata": {
    "collapsed": true
   },
   "outputs": [],
   "source": []
  }
 ],
 "metadata": {
  "kernelspec": {
   "display_name": "Python 2",
   "language": "python",
   "name": "python2"
  },
  "language_info": {
   "codemirror_mode": {
    "name": "ipython",
    "version": 2
   },
   "file_extension": ".py",
   "mimetype": "text/x-python",
   "name": "python",
   "nbconvert_exporter": "python",
   "pygments_lexer": "ipython2",
   "version": "2.7.10"
  }
 },
 "nbformat": 4,
 "nbformat_minor": 0
}
