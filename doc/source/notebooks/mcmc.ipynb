{
 "cells": [
  {
   "cell_type": "markdown",
   "metadata": {
    "deletable": true,
    "editable": true
   },
   "source": [
    "Fully Bayesian inference for generalized GP models with HMC\n",
    "--\n",
    "\n",
    "*James Hensman, 2015, 2016, 2017*\n",
    "\n",
    "It's possible to construct a very flexible models with Gaussian processes by combining them with different likelihoods (sometimes called 'families' in the GLM literature). This makes inference of the GP intractable since the likelihoods is not generally conjugate to the Gaussian process. The general form of the model is \n",
    "$$\\theta \\sim p(\\theta)\\\\f \\sim \\mathcal {GP}(m(x; \\theta),\\, k(x, x'; \\theta))\\\\y_i \\sim p(y | g(f(x_i))\\,.$$\n",
    "\n",
    "\n",
    "To perform inference in this model, we'll run MCMC using Hamiltonian Monte Carlo (HMC) over the function-values and the parameters $\\theta$ jointly. Key to an effective scheme is rotation of the field using the Cholesky decomposition. We write\n",
    "\n",
    "$$\\theta \\sim p(\\theta)\\\\v \\sim \\mathcal {N}(0,\\, I)\\\\LL^\\top = K\\\\f = m + Lv\\\\y_i \\sim p(y | g(f(x_i))\\,.$$\n",
    "\n",
    "Joint HMC over v and the function values is not widely adopted in the literature becate of the difficulty in differentiating $LL^\\top=K$. We've made this derivative available in tensorflow, and so application of HMC is relatively straightforward. "
   ]
  },
  {
   "cell_type": "markdown",
   "metadata": {
    "deletable": true,
    "editable": true
   },
   "source": [
    "### Exponential Regression example\n",
    "The first illustration in this notebook is 'Exponential Regression'. The model is \n",
    "$$\\theta \\sim p(\\theta)\\\\f \\sim \\mathcal {GP}(0, k(x, x'; \\theta))\\\\f_i = f(x_i)\\\\y_i \\sim \\mathcal {Exp} (e^{f_i})$$\n",
    "\n",
    "We'll use MCMC to deal with both the kernel parameters $\\theta$ and the latent function values $f$. first, generate a data set."
   ]
  },
  {
   "cell_type": "code",
   "execution_count": 1,
   "metadata": {
    "collapsed": false,
    "deletable": true,
    "editable": true
   },
   "outputs": [],
   "source": [
    "import gpflow\n",
    "import numpy as np\n",
    "import matplotlib\n",
    "%matplotlib inline\n",
    "matplotlib.rcParams['figure.figsize'] = (12, 6)\n",
    "plt = matplotlib.pyplot\n",
    "\n",
    "X = np.linspace(-3,3,20)\n",
    "Y = np.random.exponential(np.sin(X)**2)"
   ]
  },
  {
   "cell_type": "markdown",
   "metadata": {
    "deletable": true,
    "editable": true
   },
   "source": [
    "GPflow's model for fully-Bayesian MCMC is called GPMC. It's constructed like any other model, but contains a parameter `V` which represents the centered values of the function. "
   ]
  },
  {
   "cell_type": "code",
   "execution_count": 2,
   "metadata": {
    "collapsed": false,
    "deletable": true,
    "editable": true,
    "scrolled": false
   },
   "outputs": [
    {
     "name": "stdout",
     "output_type": "stream",
     "text": [
      "<Parameter name:\u001b[1mGPMC/V\u001b[0m [trainable] transform:(none) shape:(20, 1) prior:N([ 0.],[ 1.])>\n",
      "value: [[ 0.],\n",
      "        [ 0.],\n",
      "        [ 0.],\n",
      "        ..., \n",
      "        [ 0.],\n",
      "        [ 0.],\n",
      "        [ 0.]]\n",
      "\n",
      "<Parameter name:\u001b[1mGPMC/kern/bias/variance\u001b[0m [trainable] transform:+ve shape:() prior:None>\n",
      "value: 1.0\n",
      "\n",
      "<Parameter name:\u001b[1mGPMC/kern/matern32/variance\u001b[0m [trainable] transform:+ve shape:() prior:None>\n",
      "value: 1.0\n",
      "\n",
      "<Parameter name:\u001b[1mGPMC/kern/matern32/lengthscales\u001b[0m [trainable] transform:+ve shape:() prior:None>\n",
      "value: 1.0\n"
     ]
    }
   ],
   "source": [
    "#build the model\n",
    "k = gpflow.kernels.Matern32(1,ARD=False) + gpflow.kernels.Bias(1)\n",
    "l = gpflow.likelihoods.Exponential()\n",
    "m = gpflow.models.GPMC(X[:,None], Y[:,None], k, l)\n",
    "print(m)"
   ]
  },
  {
   "cell_type": "markdown",
   "metadata": {
    "deletable": true,
    "editable": true
   },
   "source": [
    "The `V` parameter already has a prior applied. We'll add priors to the parameters also (these are rather arbitrary, for illustration). "
   ]
  },
  {
   "cell_type": "code",
   "execution_count": 3,
   "metadata": {
    "collapsed": false,
    "deletable": true,
    "editable": true
   },
   "outputs": [],
   "source": [
    "m.kern.matern32.lengthscales.prior = gpflow.priors.Gamma(1., 1.)\n",
    "m.kern.matern32.variance.prior = gpflow.priors.Gamma(1.,1.)\n",
    "m.kern.bias.variance.prior = gpflow.priors.Gamma(1.,1.)"
   ]
  },
  {
   "cell_type": "markdown",
   "metadata": {
    "deletable": true,
    "editable": true
   },
   "source": [
    "Running HMC is pretty similar to optimizing a model. GPflow only has HMC sampling for the moment, and it's a relatively vanilla implementation (no NUTS, for example). There are two things to tune, the step size (epsilon) and the number of steps [Lmin, Lmax]. Each proposal will take a random number of steps between Lmin and Lmax, each of length epsilon. \n",
    "\n",
    "We'll use the `verbose` setting so that we can see the acceptance rate. <- this is broken :("
   ]
  },
  {
   "cell_type": "code",
   "execution_count": 4,
   "metadata": {
    "collapsed": false,
    "deletable": true,
    "editable": true,
    "scrolled": false
   },
   "outputs": [
    {
     "name": "stdout",
     "output_type": "stream",
     "text": [
      "['GPMC/V', 'GPMC/kern/bias/variance', 'GPMC/kern/matern32/variance', 'GPMC/kern/matern32/lengthscales']\n"
     ]
    }
   ],
   "source": [
    "m.compile()\n",
    "\n",
    "o = gpflow.train.AdamOptimizer(0.01)\n",
    "o.minimize(m, maxiter=15) # start near MAP\n",
    "\n",
    "s = gpflow.train.HMC()\n",
    "samples = s.sample(m, 100, epsilon=0.12, lmax=20, lmin=5, thin=5)#, verbose=True)"
   ]
  },
  {
   "cell_type": "code",
   "execution_count": 6,
   "metadata": {
    "collapsed": false
   },
   "outputs": [
    {
     "data": {
      "text/html": [
       "<div>\n",
       "<table border=\"1\" class=\"dataframe\">\n",
       "  <thead>\n",
       "    <tr style=\"text-align: right;\">\n",
       "      <th></th>\n",
       "      <th>GPMC/V</th>\n",
       "      <th>GPMC/kern/bias/variance</th>\n",
       "      <th>GPMC/kern/matern32/lengthscales</th>\n",
       "      <th>GPMC/kern/matern32/variance</th>\n",
       "    </tr>\n",
       "  </thead>\n",
       "  <tbody>\n",
       "    <tr>\n",
       "      <th>0</th>\n",
       "      <td>[[-0.71884574957], [0.666194325636], [-1.06914...</td>\n",
       "      <td>1.284102</td>\n",
       "      <td>0.624206</td>\n",
       "      <td>1.508442</td>\n",
       "    </tr>\n",
       "    <tr>\n",
       "      <th>1</th>\n",
       "      <td>[[-1.25846382968], [-0.285846966914], [0.68245...</td>\n",
       "      <td>0.810922</td>\n",
       "      <td>1.578040</td>\n",
       "      <td>3.285097</td>\n",
       "    </tr>\n",
       "    <tr>\n",
       "      <th>2</th>\n",
       "      <td>[[-1.25846382968], [-0.285846966914], [0.68245...</td>\n",
       "      <td>0.810922</td>\n",
       "      <td>1.578040</td>\n",
       "      <td>3.285097</td>\n",
       "    </tr>\n",
       "    <tr>\n",
       "      <th>3</th>\n",
       "      <td>[[-1.54092678251], [-0.381036114675], [0.29463...</td>\n",
       "      <td>0.741988</td>\n",
       "      <td>1.029214</td>\n",
       "      <td>3.404219</td>\n",
       "    </tr>\n",
       "    <tr>\n",
       "      <th>4</th>\n",
       "      <td>[[-1.54092678251], [-0.381036114675], [0.29463...</td>\n",
       "      <td>0.741988</td>\n",
       "      <td>1.029214</td>\n",
       "      <td>3.404219</td>\n",
       "    </tr>\n",
       "  </tbody>\n",
       "</table>\n",
       "</div>"
      ],
      "text/plain": [
       "                                              GPMC/V  GPMC/kern/bias/variance  \\\n",
       "0  [[-0.71884574957], [0.666194325636], [-1.06914...                 1.284102   \n",
       "1  [[-1.25846382968], [-0.285846966914], [0.68245...                 0.810922   \n",
       "2  [[-1.25846382968], [-0.285846966914], [0.68245...                 0.810922   \n",
       "3  [[-1.54092678251], [-0.381036114675], [0.29463...                 0.741988   \n",
       "4  [[-1.54092678251], [-0.381036114675], [0.29463...                 0.741988   \n",
       "\n",
       "   GPMC/kern/matern32/lengthscales  GPMC/kern/matern32/variance  \n",
       "0                         0.624206                     1.508442  \n",
       "1                         1.578040                     3.285097  \n",
       "2                         1.578040                     3.285097  \n",
       "3                         1.029214                     3.404219  \n",
       "4                         1.029214                     3.404219  "
      ]
     },
     "execution_count": 6,
     "metadata": {},
     "output_type": "execute_result"
    }
   ],
   "source": [
    "samples.head()"
   ]
  },
  {
   "cell_type": "code",
   "execution_count": 5,
   "metadata": {
    "collapsed": false,
    "deletable": true,
    "editable": true
   },
   "outputs": [],
   "source": [
    "samples = samples.drop('logprobs', axis=1)  # this is annoying!\n",
    "\n",
    "xtest = np.linspace(-4,4,100)[:,None]\n",
    "f_samples = []\n",
    "for i, s in samples.iterrows():\n",
    "    m.assign(s)\n",
    "    f_samples.append(m.predict_f_samples(xtest, 5))\n",
    "f_samples = np.vstack(f_samples)"
   ]
  },
  {
   "cell_type": "code",
   "execution_count": 7,
   "metadata": {
    "collapsed": false,
    "deletable": true,
    "editable": true
   },
   "outputs": [
    {
     "data": {
      "text/plain": [
       "(-0.1, 3.0322034977233532)"
      ]
     },
     "execution_count": 7,
     "metadata": {},
     "output_type": "execute_result"
    },
    {
     "data": {
      "image/png": "[encoded data removed]",
      "text/plain": [
       "<matplotlib.figure.Figure at 0x114cc10f0>"
      ]
     },
     "metadata": {},
     "output_type": "display_data"
    }
   ],
   "source": [
    "rate_samples = np.exp(f_samples[:, :, 0])\n",
    "\n",
    "line, = plt.plot(xtest, np.mean(rate_samples, 0), lw=2)\n",
    "plt.fill_between(xtest[:,0],\n",
    "                 np.percentile(rate_samples, 5, axis=0),\n",
    "                 np.percentile(rate_samples, 95, axis=0),\n",
    "                 color=line.get_color(), alpha = 0.2)\n",
    "\n",
    "plt.plot(X, Y, 'kx', mew=2)\n",
    "plt.ylim(-0.1, np.max(np.percentile(rate_samples, 95, axis=0)))"
   ]
  },
  {
   "cell_type": "code",
   "execution_count": 8,
   "metadata": {
    "collapsed": false
   },
   "outputs": [
    {
     "data": {
      "text/html": [
       "<div>\n",
       "<table border=\"1\" class=\"dataframe\">\n",
       "  <thead>\n",
       "    <tr style=\"text-align: right;\">\n",
       "      <th></th>\n",
       "      <th>GPMC/V</th>\n",
       "      <th>GPMC/kern/bias/variance</th>\n",
       "      <th>GPMC/kern/matern32/lengthscales</th>\n",
       "      <th>GPMC/kern/matern32/variance</th>\n",
       "    </tr>\n",
       "  </thead>\n",
       "  <tbody>\n",
       "    <tr>\n",
       "      <th>0</th>\n",
       "      <td>[[-0.71884574957], [0.666194325636], [-1.06914...</td>\n",
       "      <td>1.284102</td>\n",
       "      <td>0.624206</td>\n",
       "      <td>1.508442</td>\n",
       "    </tr>\n",
       "    <tr>\n",
       "      <th>1</th>\n",
       "      <td>[[-1.25846382968], [-0.285846966914], [0.68245...</td>\n",
       "      <td>0.810922</td>\n",
       "      <td>1.578040</td>\n",
       "      <td>3.285097</td>\n",
       "    </tr>\n",
       "    <tr>\n",
       "      <th>2</th>\n",
       "      <td>[[-1.25846382968], [-0.285846966914], [0.68245...</td>\n",
       "      <td>0.810922</td>\n",
       "      <td>1.578040</td>\n",
       "      <td>3.285097</td>\n",
       "    </tr>\n",
       "    <tr>\n",
       "      <th>3</th>\n",
       "      <td>[[-1.54092678251], [-0.381036114675], [0.29463...</td>\n",
       "      <td>0.741988</td>\n",
       "      <td>1.029214</td>\n",
       "      <td>3.404219</td>\n",
       "    </tr>\n",
       "    <tr>\n",
       "      <th>4</th>\n",
       "      <td>[[-1.54092678251], [-0.381036114675], [0.29463...</td>\n",
       "      <td>0.741988</td>\n",
       "      <td>1.029214</td>\n",
       "      <td>3.404219</td>\n",
       "    </tr>\n",
       "  </tbody>\n",
       "</table>\n",
       "</div>"
      ],
      "text/plain": [
       "                                              GPMC/V  GPMC/kern/bias/variance  \\\n",
       "0  [[-0.71884574957], [0.666194325636], [-1.06914...                 1.284102   \n",
       "1  [[-1.25846382968], [-0.285846966914], [0.68245...                 0.810922   \n",
       "2  [[-1.25846382968], [-0.285846966914], [0.68245...                 0.810922   \n",
       "3  [[-1.54092678251], [-0.381036114675], [0.29463...                 0.741988   \n",
       "4  [[-1.54092678251], [-0.381036114675], [0.29463...                 0.741988   \n",
       "\n",
       "   GPMC/kern/matern32/lengthscales  GPMC/kern/matern32/variance  \n",
       "0                         0.624206                     1.508442  \n",
       "1                         1.578040                     3.285097  \n",
       "2                         1.578040                     3.285097  \n",
       "3                         1.029214                     3.404219  \n",
       "4                         1.029214                     3.404219  "
      ]
     },
     "execution_count": 8,
     "metadata": {},
     "output_type": "execute_result"
    }
   ],
   "source": [
    "samples.head()"
   ]
  },
  {
   "cell_type": "code",
   "execution_count": 17,
   "metadata": {
    "collapsed": false
   },
   "outputs": [
    {
     "data": {
      "text/plain": [
       "<matplotlib.axes._subplots.AxesSubplot at 0x118938ef0>"
      ]
     },
     "execution_count": 17,
     "metadata": {},
     "output_type": "execute_result"
    },
    {
     "data": {
      "image/png": "[encoded data removed]",
      "text/plain": [
       "<matplotlib.figure.Figure at 0x118a89ba8>"
      ]
     },
     "metadata": {},
     "output_type": "display_data"
    }
   ],
   "source": [
    "samples['GPMC/kern/bias/variance'].hist(bins=20)"
   ]
  },
  {
   "cell_type": "code",
   "execution_count": null,
   "metadata": {
    "collapsed": true
   },
   "outputs": [],
   "source": []
  }
 ],
 "metadata": {
  "anaconda-cloud": {},
  "kernelspec": {
   "display_name": "Python 3",
   "language": "python",
   "name": "python3"
  },
  "language_info": {
   "codemirror_mode": {
    "name": "ipython",
    "version": 3
   },
   "file_extension": ".py",
   "mimetype": "text/x-python",
   "name": "python",
   "nbconvert_exporter": "python",
   "pygments_lexer": "ipython3",
   "version": "3.5.3"
  }
 },
 "nbformat": 4,
 "nbformat_minor": 0
}
