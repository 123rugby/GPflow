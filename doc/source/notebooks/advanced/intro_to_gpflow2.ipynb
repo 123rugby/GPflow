{
 "cells": [
  {
   "cell_type": "markdown",
   "metadata": {},
   "source": [
    "# GPflow with TF 2.0"
   ]
  },
  {
   "cell_type": "code",
   "execution_count": 1,
   "metadata": {},
   "outputs": [],
   "source": [
    "import tensorflow as tf\n",
    "import gpflow\n",
    "\n",
    "import numpy as np\n",
    "import matplotlib.pyplot as plt\n",
    "import datetime\n",
    "import io\n",
    "\n",
    "np.random.seed(0)\n",
    "tf.random.set_seed(0)"
   ]
  },
  {
   "cell_type": "markdown",
   "metadata": {},
   "source": [
    "## Loading data using TensorFlow Datasets\n",
    "\n",
    "For this example, we create a synthetic dataset (noisy sine function) "
   ]
  },
  {
   "cell_type": "code",
   "execution_count": 2,
   "metadata": {
    "scrolled": true
   },
   "outputs": [
    {
     "data": {
      "text/plain": [
       "(0, 10)"
      ]
     },
     "execution_count": 2,
     "metadata": {},
     "output_type": "execute_result"
    },
    {
     "data": {
      "image/png": "[encoded data removed]",
      "text/plain": [
       "<Figure size 432x288 with 1 Axes>"
      ]
     },
     "metadata": {
      "needs_background": "light"
     },
     "output_type": "display_data"
    }
   ],
   "source": [
    "def noisy_sin(x): \n",
    "    return np.sin(x) + 0.1 * np.random.randn(*x.shape)\n",
    "\n",
    "N, Ntest = 100, 500\n",
    "X, Xtest = np.random.rand(N, 1) * 10, np.random.rand(Ntest, 1) * 10\n",
    "Y, Ytest = noisy_sin(X), noisy_sin(Xtest)\n",
    "\n",
    "plt.plot(X, Y, 'xk')\n",
    "plt.xlim(0, 10)"
   ]
  },
  {
   "cell_type": "markdown",
   "metadata": {},
   "source": [
    "Working with Tensorflow Datasets is an efficient way to rapidly shuffle, iterate and batch from data."
   ]
  },
  {
   "cell_type": "code",
   "execution_count": 3,
   "metadata": {},
   "outputs": [
    {
     "name": "stderr",
     "output_type": "stream",
     "text": [
      "WARNING: Logging before flag parsing goes to stderr.\n",
      "W0620 17:38:40.404354 140003769710400 deprecation.py:323] From /home/sergio.diaz/tf2/lib/python3.6/site-packages/tensorflow_core/python/data/util/random_seed.py:58: add_dispatch_support.<locals>.wrapper (from tensorflow.python.ops.array_ops) is deprecated and will be removed in a future version.\n",
      "Instructions for updating:\n",
      "Use tf.where in 2.0, which has the same broadcast rule as np.where\n"
     ]
    }
   ],
   "source": [
    "dataset = tf.data.Dataset.from_tensor_slices((X, Y))\n",
    "test_dataset = tf.data.Dataset.from_tensor_slices((Xtest, Ytest))\n",
    "\n",
    "batch_size = 32\n",
    "\n",
    "\n",
    "dataset = dataset\\\n",
    "    .repeat(True)\\\n",
    "    .prefetch(10000)\\\n",
    "    .shuffle(buffer_size=10000)\\\n",
    "    .batch(batch_size)"
   ]
  },
  {
   "cell_type": "markdown",
   "metadata": {},
   "source": [
    "## Define a GP model\n",
    "\n",
    "In GPflow2.0, we use tf.Module to build all our models, as well as, their components (kernels, likelihoods, parameters, etc.). "
   ]
  },
  {
   "cell_type": "code",
   "execution_count": 4,
   "metadata": {},
   "outputs": [],
   "source": [
    "M = 10\n",
    "kern = gpflow.kernels.RBF(variance=2.)\n",
    "lik = gpflow.likelihoods.Gaussian()\n",
    "Z = np.linspace(0, 10, M).reshape(-1, 1)\n",
    "\n",
    "model = gpflow.models.SVGP(kernel=kern, likelihood=lik, feature=Z)"
   ]
  },
  {
   "cell_type": "markdown",
   "metadata": {},
   "source": [
    "You can set a module (or a particular parameter) to be non-trainable using the auxiliary method ```set_trainable(module, False)```"
   ]
  },
  {
   "cell_type": "code",
   "execution_count": 5,
   "metadata": {},
   "outputs": [],
   "source": [
    "from gpflow.utilities.training import set_trainable\n",
    "\n",
    "set_trainable(lik, False)\n",
    "set_trainable(kern.variance, False)"
   ]
  },
  {
   "cell_type": "markdown",
   "metadata": {},
   "source": [
    "We can use ```param.assign(value)``` to assign a value to a parameter:"
   ]
  },
  {
   "cell_type": "code",
   "execution_count": 6,
   "metadata": {},
   "outputs": [],
   "source": [
    "kern.lengthscale.assign(1.5)"
   ]
  },
  {
   "cell_type": "markdown",
   "metadata": {},
   "source": [
    "All these changes are reflected when we use ```print_summary(model)``` to print a detailed summary of the model."
   ]
  },
  {
   "cell_type": "code",
   "execution_count": 7,
   "metadata": {},
   "outputs": [],
   "source": [
    "# from gpflow.utilities.printing import print_summary\n",
    "# print_summary(model)"
   ]
  },
  {
   "cell_type": "markdown",
   "metadata": {},
   "source": [
    "## Training using Gradient Tapes\n",
    "\n",
    "In TensorFlow2.0, we can optimise (trainable) model parameters with Tensorflow optimizers using GradientTapes. In this simple example, we perform one gradient update of the Adam optimizer to minimize the negative marginal log likelihood (or ELBO) of our model."
   ]
  },
  {
   "cell_type": "code",
   "execution_count": 8,
   "metadata": {},
   "outputs": [
    {
     "name": "stderr",
     "output_type": "stream",
     "text": [
      "W0620 17:38:43.336522 140003769710400 deprecation.py:323] From /home/sergio.diaz/tf2/lib/python3.6/site-packages/tensorflow_core/python/keras/optimizer_v2/optimizer_v2.py:460: BaseResourceVariable.constraint (from tensorflow.python.ops.resource_variable_ops) is deprecated and will be removed in a future version.\n",
      "Instructions for updating:\n",
      "Apply a constraint manually following the optimizer update step.\n"
     ]
    },
    {
     "data": {
      "text/plain": [
       "<tf.Variable 'UnreadVariable' shape=() dtype=int64, numpy=1>"
      ]
     },
     "execution_count": 8,
     "metadata": {},
     "output_type": "execute_result"
    }
   ],
   "source": [
    "optimizer = tf.optimizers.Adam()\n",
    "\n",
    "with tf.GradientTape() as tape: \n",
    "    tape.watch(model.trainable_variables)\n",
    "    loss = model.neg_log_marginal_likelihood(X, Y)\n",
    "    grads = tape.gradient(loss, model.trainable_variables)\n",
    "    \n",
    "optimizer.apply_gradients(zip(grads, model.trainable_variables))"
   ]
  },
  {
   "cell_type": "markdown",
   "metadata": {},
   "source": [
    "For a more elaborare example of a gradient update we can define an ```optimization_step``` that uses decorator ```tf.function``` on a closure. A closure is callable that returns the model objective evaluated at a given dataset when called."
   ]
  },
  {
   "cell_type": "code",
   "execution_count": 9,
   "metadata": {},
   "outputs": [],
   "source": [
    "class Closure: \n",
    "    def set_data(self, batch): \n",
    "        self.X, self.Y = batch\n",
    "        \n",
    "    @tf.function\n",
    "    def __call__(self): \n",
    "        return model.neg_log_marginal_likelihood(self.X, self.Y)\n",
    "\n",
    "closure = Closure()\n",
    "\n",
    "def optimization_step(batch): \n",
    "    closure.set_data(batch)\n",
    "    with tf.GradientTape() as tape: \n",
    "        tape.watch(model.trainable_variables)\n",
    "        loss = closure()\n",
    "        grads = tape.gradient(loss, model.trainable_variables)\n",
    "    optimizer.apply_gradients(zip(grads, model.trainable_variables))"
   ]
  },
  {
   "cell_type": "markdown",
   "metadata": {},
   "source": [
    "We can make use the functionality of TensorFlow Datasets to define a simple training loop that iterates over batches of the training dataset: "
   ]
  },
  {
   "cell_type": "code",
   "execution_count": 10,
   "metadata": {},
   "outputs": [],
   "source": [
    "def simple_training_loop(model, batch_size, epochs: int):\n",
    "    num_batches_per_epoch = int(N / batch_size)\n",
    "    for epoch in range(epochs):\n",
    "        batches_epoch = iter(dataset)\n",
    "        for _ in range(num_batches_per_epoch):\n",
    "            batch = next(batches_epoch)\n",
    "            optimization_step(batch)\n",
    "        if (epoch + 1) % 100 == 0: \n",
    "            print(r'Epoch %i completed: ELBO training set %f4' % (\n",
    "                epoch + 1, model.neg_log_marginal_likelihood(X,Y))\n",
    "                 )"
   ]
  },
  {
   "cell_type": "code",
   "execution_count": 11,
   "metadata": {
    "scrolled": true
   },
   "outputs": [
    {
     "name": "stderr",
     "output_type": "stream",
     "text": [
      "W0620 17:38:46.466522 140003769710400 ag_logging.py:146] Entity <bound method Dispatcher.dispatch_iter of <dispatched conditional>> appears to be a generator function. It will not be converted by AutoGraph.\n"
     ]
    },
    {
     "name": "stdout",
     "output_type": "stream",
     "text": [
      "WARNING: Entity <bound method Dispatcher.dispatch_iter of <dispatched conditional>> appears to be a generator function. It will not be converted by AutoGraph.\n"
     ]
    },
    {
     "name": "stderr",
     "output_type": "stream",
     "text": [
      "W0620 17:38:46.905427 140003769710400 ag_logging.py:146] Entity <bound method Dispatcher.dispatch_iter of <dispatched Kuf>> appears to be a generator function. It will not be converted by AutoGraph.\n"
     ]
    },
    {
     "name": "stdout",
     "output_type": "stream",
     "text": [
      "WARNING: Entity <bound method Dispatcher.dispatch_iter of <dispatched Kuf>> appears to be a generator function. It will not be converted by AutoGraph.\n",
      "Epoch 100 completed: ELBO training set 135.8124784\n",
      "Epoch 200 completed: ELBO training set 114.5467354\n",
      "Epoch 300 completed: ELBO training set 109.3089614\n",
      "Epoch 400 completed: ELBO training set 107.8008884\n",
      "Epoch 500 completed: ELBO training set 107.3097194\n",
      "Epoch 600 completed: ELBO training set 107.1252364\n",
      "Epoch 700 completed: ELBO training set 107.0467544\n",
      "Epoch 800 completed: ELBO training set 107.0117884\n",
      "Epoch 900 completed: ELBO training set 106.9966414\n",
      "Epoch 1000 completed: ELBO training set 106.9903464\n"
     ]
    }
   ],
   "source": [
    "simple_training_loop(model, batch_size=batch_size, epochs=1000)"
   ]
  },
  {
   "cell_type": "markdown",
   "metadata": {},
   "source": [
    "## Monitoring \n",
    "\n",
    "We can monitor the training procedure using TensorFlow summary. First we create a summary writer object under which we can write scalar and images."
   ]
  },
  {
   "cell_type": "code",
   "execution_count": 13,
   "metadata": {},
   "outputs": [],
   "source": [
    "from plotting_regression import plotting_regression\n",
    "\n",
    "def summary_matplotlib_image(figures, step, fmt='png'):\n",
    "    for name, fig in figures.items():\n",
    "        buf = io.BytesIO()\n",
    "        fig.savefig(buf, format=fmt, bbox_inches='tight')\n",
    "        buf.seek(0)\n",
    "        image = tf.image.decode_image(buf.getvalue(), channels=4)\n",
    "        image = tf.expand_dims(image, 0)\n",
    "        img_summary = tf.summary.image(name=name, data=image, step=step)\n",
    "\n",
    "def monitored_training_loop(model, batch_size: int, epochs: int, log_dir: str):\n",
    "    summary_writer = tf.summary.create_file_writer(log_dir)\n",
    "    num_batches_per_epoch = int(N / batch_size)\n",
    "    for epoch in range(epochs):\n",
    "        batches_epoch = iter(dataset)\n",
    "        for _ in range(num_batches_per_epoch):\n",
    "            batch = next(batches_epoch)\n",
    "            optimization_step(batch)\n",
    "\n",
    "        with summary_writer.as_default():\n",
    "            tf.summary.scalar('loss', data=model.neg_log_marginal_likelihood(X,Y), step=epoch)\n",
    "            tf.summary.scalar('lik.variance', data=model.likelihood.variance, step=epoch)\n",
    "            tf.summary.scalar('kern.ls', data=model.kernel.lengthscale, step=epoch)\n",
    "            tf.summary.scalar('kern.variance', data=model.kernel.variance, step=epoch)\n",
    "            \n",
    "        if (epoch + 1) % 100 == 0: \n",
    "            print(r'Epoch %i completed: ELBO training set %f4' % (\n",
    "                epoch + 1, model.neg_log_marginal_likelihood(X,Y))\n",
    "                 )    \n",
    "            xx = np.linspace(0, 10, 100).reshape(100, 1) \n",
    "            mean, var = model.predict_f(xx)\n",
    "            samples = model.predict_f_samples(xx, 10)\n",
    "\n",
    "            fig = plotting_regression(X, Y, xx, mean, var, samples)\n",
    "            \n",
    "            with summary_writer.as_default():\n",
    "                summary_matplotlib_image({'samples from model' : fig}, step=epoch)"
   ]
  },
  {
   "cell_type": "code",
   "execution_count": 14,
   "metadata": {
    "scrolled": true
   },
   "outputs": [
    {
     "name": "stdout",
     "output_type": "stream",
     "text": [
      "Logs folder path: /tmp/logs/20190620-173907\n",
      "Epoch 100 completed: ELBO training set 108.3828024\n",
      "Epoch 200 completed: ELBO training set 107.1631734\n",
      "Epoch 300 completed: ELBO training set 107.0229314\n",
      "Epoch 400 completed: ELBO training set 106.9902964\n",
      "Epoch 500 completed: ELBO training set 106.9803234\n",
      "Epoch 600 completed: ELBO training set 106.9770144\n",
      "Epoch 700 completed: ELBO training set 106.9758394\n",
      "Epoch 800 completed: ELBO training set 106.9753404\n",
      "Epoch 900 completed: ELBO training set 106.9750464\n",
      "Epoch 1000 completed: ELBO training set 106.9748014\n"
     ]
    },
    {
     "data": {
      "text/plain": [
       "<Figure size 432x288 with 0 Axes>"
      ]
     },
     "metadata": {},
     "output_type": "display_data"
    }
   ],
   "source": [
    "model = gpflow.models.SVGP(kernel=kern, likelihood=lik, feature=Z)\n",
    "closure = Closure()\n",
    "\n",
    "log_dir = '/tmp/logs/' + datetime.datetime.now().strftime(\"%Y%m%d-%H%M%S\")\n",
    "print(r'Logs folder path: %s' % (log_dir))\n",
    "\n",
    "monitored_training_loop(model, batch_size=batch_size, epochs=1000, log_dir=log_dir)"
   ]
  },
  {
   "cell_type": "markdown",
   "metadata": {},
   "source": [
    "Then, we can then use Tensorboard to examine the training procedure more in detail."
   ]
  },
  {
   "cell_type": "code",
   "execution_count": 15,
   "metadata": {},
   "outputs": [],
   "source": [
    "# ! tensorboard --logdir <log directory path>"
   ]
  },
  {
   "cell_type": "markdown",
   "metadata": {},
   "source": [
    "## Checkpointing: saving and loading models\n",
    "\n",
    "With the help of `tf.train.CheckpointManager` and `tf.train.Checkpoint`, we can checkpoint the model throughout the training procedure. Let's start with a simple example using checkpointing to save and load `tf.Variables`:"
   ]
  },
  {
   "cell_type": "code",
   "execution_count": 16,
   "metadata": {},
   "outputs": [
    {
     "name": "stdout",
     "output_type": "stream",
     "text": [
      "Current value of variable a: 0.330000\n",
      "Value of variable a: 1.200000\n"
     ]
    }
   ],
   "source": [
    "a = tf.Variable(1.2)\n",
    "# Create Checkpoint object\n",
    "checkpoint_obj = tf.train.Checkpoint(a=a)\n",
    "checkpoint_path = '/tmp/simple_example/' + datetime.datetime.now().strftime(\"%Y%m%d-%H%M\")\n",
    "manager = tf.train.CheckpointManager(checkpoint_obj, checkpoint_path, max_to_keep=10) \n",
    "# Save variable\n",
    "manager.save()\n",
    "a.assign(0.33)\n",
    "print('Current value of variable a: %f' % (a.numpy()))\n",
    "checkpoint_obj.restore(manager.latest_checkpoint)\n",
    "print('Value of variable a: %f' % (a.numpy()))"
   ]
  },
  {
   "cell_type": "markdown",
   "metadata": {},
   "source": [
    "In this example bellow, we modify a simple training loop to save the model every 100 epochs using the CheckpointManager."
   ]
  },
  {
   "cell_type": "code",
   "execution_count": 17,
   "metadata": {},
   "outputs": [],
   "source": [
    "model = gpflow.models.SVGP(kernel=kern, likelihood=lik, feature=Z)\n",
    "closure = Closure()\n",
    "\n",
    "def checkpointing_training_loop(model, batch_size: int, epochs: int, manager: tf.train.CheckpointManager):\n",
    "    num_batches_per_epoch = int(N / batch_size)\n",
    "    for epoch in range(epochs):\n",
    "        batches_epoch = iter(dataset)\n",
    "        for _ in range(num_batches_per_epoch):\n",
    "            batch = next(batches_epoch)\n",
    "            optimization_step(batch)\n",
    "        if (epoch + 1) % 100 == 0: \n",
    "            ckpt_path = manager.save()\n",
    "            print(r'Epoch %i completed: ELBO training set %f3, model checkpointing saved at %s' % (\n",
    "                epoch + 1, model.neg_log_marginal_likelihood(X,Y), ckpt_path)\n",
    "                 )"
   ]
  },
  {
   "cell_type": "code",
   "execution_count": 19,
   "metadata": {},
   "outputs": [
    {
     "name": "stdout",
     "output_type": "stream",
     "text": [
      "Checkpoint folder path at: /tmp/tf_ckpts/20190620-1739\n",
      "Epoch 100 completed: ELBO training set 108.2411683, model checkpointing saved at /tmp/tf_ckpts/20190620-1739/ckpt-1\n",
      "Epoch 200 completed: ELBO training set 107.1402743, model checkpointing saved at /tmp/tf_ckpts/20190620-1739/ckpt-2\n",
      "Epoch 300 completed: ELBO training set 107.0170233, model checkpointing saved at /tmp/tf_ckpts/20190620-1739/ckpt-3\n",
      "Epoch 400 completed: ELBO training set 106.9882623, model checkpointing saved at /tmp/tf_ckpts/20190620-1739/ckpt-4\n",
      "Epoch 500 completed: ELBO training set 106.9795233, model checkpointing saved at /tmp/tf_ckpts/20190620-1739/ckpt-5\n",
      "Epoch 600 completed: ELBO training set 106.9766403, model checkpointing saved at /tmp/tf_ckpts/20190620-1739/ckpt-6\n",
      "Epoch 700 completed: ELBO training set 106.9756183, model checkpointing saved at /tmp/tf_ckpts/20190620-1739/ckpt-7\n",
      "Epoch 800 completed: ELBO training set 106.9751813, model checkpointing saved at /tmp/tf_ckpts/20190620-1739/ckpt-8\n",
      "Epoch 900 completed: ELBO training set 106.9749173, model checkpointing saved at /tmp/tf_ckpts/20190620-1739/ckpt-9\n",
      "Epoch 1000 completed: ELBO training set 106.9746913, model checkpointing saved at /tmp/tf_ckpts/20190620-1739/ckpt-10\n"
     ]
    }
   ],
   "source": [
    "ckpt = tf.train.Checkpoint(model=model)\n",
    "checkpoint_path = '/tmp/tf_ckpts/' + datetime.datetime.now().strftime(\"%Y%m%d-%H%M\")\n",
    "\n",
    "manager = tf.train.CheckpointManager(ckpt, checkpoint_path, max_to_keep=10)         \n",
    "print(r'Checkpoint folder path at: %s' % (checkpoint_path))\n",
    "\n",
    "checkpointing_training_loop(model, batch_size=batch_size, epochs=1000, manager=manager)"
   ]
  },
  {
   "cell_type": "markdown",
   "metadata": {},
   "source": [
    "Once the models have been saved, we can resore them using ```tf.train.Checkpoint.restore``` and assert their performance corresponds to the logs during training."
   ]
  },
  {
   "cell_type": "code",
   "execution_count": 20,
   "metadata": {},
   "outputs": [
    {
     "name": "stdout",
     "output_type": "stream",
     "text": [
      "Restored model from epoch 1 : ELBO training set 108.2411683\n",
      "Restored model from epoch 2 : ELBO training set 107.1402743\n",
      "Restored model from epoch 3 : ELBO training set 107.0170233\n",
      "Restored model from epoch 4 : ELBO training set 106.9882623\n",
      "Restored model from epoch 5 : ELBO training set 106.9795233\n",
      "Restored model from epoch 6 : ELBO training set 106.9766403\n",
      "Restored model from epoch 7 : ELBO training set 106.9756183\n",
      "Restored model from epoch 8 : ELBO training set 106.9751813\n",
      "Restored model from epoch 9 : ELBO training set 106.9749173\n",
      "Restored model from epoch 10 : ELBO training set 106.9746913\n"
     ]
    }
   ],
   "source": [
    "for i, recorded_checkpoint in enumerate(manager.checkpoints): \n",
    "    ckpt.restore(recorded_checkpoint)\n",
    "    print(r'Restored model from epoch %i : ELBO training set %f3' % (\n",
    "        i + 1, model.neg_log_marginal_likelihood(X,Y))\n",
    "         )"
   ]
  },
  {
   "cell_type": "code",
   "execution_count": null,
   "metadata": {},
   "outputs": [],
   "source": []
  }
 ],
 "metadata": {
  "kernelspec": {
   "display_name": "tf2_monitoring",
   "language": "python",
   "name": "tf2_monitoring"
  },
  "language_info": {
   "codemirror_mode": {
    "name": "ipython",
    "version": 3
   },
   "file_extension": ".py",
   "mimetype": "text/x-python",
   "name": "python",
   "nbconvert_exporter": "python",
   "pygments_lexer": "ipython3",
   "version": "3.6.7"
  }
 },
 "nbformat": 4,
 "nbformat_minor": 2
}
