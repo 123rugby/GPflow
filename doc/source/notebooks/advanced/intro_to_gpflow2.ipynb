{
 "cells": [
  {
   "cell_type": "markdown",
   "metadata": {},
   "source": [
    "# GPflow with TF 2.0"
   ]
  },
  {
   "cell_type": "code",
   "execution_count": 1,
   "metadata": {},
   "outputs": [],
   "source": [
    "from typing import Tuple\n",
    "from pathlib import Path\n",
    "\n",
    "import datetime\n",
    "import io\n",
    "import matplotlib.pyplot as plt\n",
    "\n",
    "import numpy as np\n",
    "import tensorflow as tf\n",
    "import gpflow\n",
    "\n",
    "from gpflow.config import default_float\n",
    "\n",
    "import warnings\n",
    "\n",
    "warnings.filterwarnings('ignore')\n",
    "\n",
    "tb_logdir = \"/tmp/tensorboard\"  # type: str\n",
    "\n",
    "!rm -rf \"{tb_logdir}\"\n",
    "\n",
    "def enumerated_logdir(_logdir_id: int = [0]):\n",
    "    logdir = Path(tb_logdir, str(_logdir_id[0]))\n",
    "    _logdir_id[0] += 1\n",
    "    return str(logdir)\n",
    "    \n",
    "\n",
    "!mkdir \"{tb_logdir}\"\n",
    "%load_ext tensorboard\n",
    "%matplotlib notebook\n",
    "\n",
    "\n",
    "np.random.seed(0)\n",
    "tf.random.set_seed(0)\n",
    "gpflow.config.set_default_float(np.float64)"
   ]
  },
  {
   "cell_type": "markdown",
   "metadata": {},
   "source": [
    "## Loading data using TensorFlow Datasets\n",
    "\n",
    "For this example, we create a synthetic dataset (noisy sine function) "
   ]
  },
  {
   "cell_type": "code",
   "execution_count": 2,
   "metadata": {
    "scrolled": true
   },
   "outputs": [
    {
     "data": {
      "text/plain": [
       "(0, 10)"
      ]
     },
     "execution_count": 2,
     "metadata": {},
     "output_type": "execute_result"
    },
    {
     "data": {
      "image/png": "[encoded data removed]",
      "text/plain": [
       "<Figure size 432x288 with 1 Axes>"
      ]
     },
     "metadata": {
      "needs_background": "light"
     },
     "output_type": "display_data"
    }
   ],
   "source": [
    "def noisy_sin(x): \n",
    "    return tf.math.sin(x) + 0.1 * tf.random.normal(x.shape, dtype=default_float())\n",
    "\n",
    "num_train_data, num_test_data = 100, 500\n",
    "\n",
    "X = tf.random.uniform((num_train_data, 1), dtype=default_float()) * 10\n",
    "Xtest = tf.random.uniform((num_test_data, 1), dtype=default_float()) * 10\n",
    "\n",
    "Y = noisy_sin(X)\n",
    "Ytest = noisy_sin(Xtest)\n",
    "\n",
    "plt.plot(X, Y, 'xk')\n",
    "plt.xlim(0, 10)"
   ]
  },
  {
   "cell_type": "markdown",
   "metadata": {},
   "source": [
    "Working with Tensorflow Datasets is an efficient way to rapidly shuffle, iterate and batch from data."
   ]
  },
  {
   "cell_type": "code",
   "execution_count": 3,
   "metadata": {},
   "outputs": [
    {
     "name": "stderr",
     "output_type": "stream",
     "text": [
      "WARNING: Logging before flag parsing goes to stderr.\n",
      "W0622 21:48:01.046863 4372366784 deprecation.py:323] From /Users/artemav/anaconda3/envs/tf2/lib/python3.6/site-packages/tensorflow_core/python/data/util/random_seed.py:58: add_dispatch_support.<locals>.wrapper (from tensorflow.python.ops.array_ops) is deprecated and will be removed in a future version.\n",
      "Instructions for updating:\n",
      "Use tf.where in 2.0, which has the same broadcast rule as np.where\n"
     ]
    },
    {
     "name": "stdout",
     "output_type": "stream",
     "text": [
      "prefetch_size=50\n",
      "shuffle_buffer_size=50\n",
      "num_batches_per_epoch=3\n"
     ]
    }
   ],
   "source": [
    "train_dataset = tf.data.Dataset.from_tensor_slices((X, Y))\n",
    "test_dataset = tf.data.Dataset.from_tensor_slices((Xtest, Ytest))\n",
    "\n",
    "batch_size = 32\n",
    "num_features = 10\n",
    "prefetch_size = num_train_data // 2\n",
    "shuffle_buffer_size = num_train_data // 2\n",
    "num_batches_per_epoch = num_train_data // batch_size\n",
    "\n",
    "original_train_dataset = train_dataset\n",
    "train_dataset = train_dataset.repeat().prefetch(prefetch_size).shuffle(buffer_size=shuffle_buffer_size).batch(batch_size)\n",
    "\n",
    "print(f\"prefetch_size={prefetch_size}\")\n",
    "print(f\"shuffle_buffer_size={shuffle_buffer_size}\")\n",
    "print(f\"num_batches_per_epoch={num_batches_per_epoch}\")"
   ]
  },
  {
   "cell_type": "markdown",
   "metadata": {},
   "source": [
    "## Define a GP model\n",
    "\n",
    "In GPflow2.0, we use tf.Module to build all our models, as well as, their components (kernels, likelihoods, parameters, etc.). "
   ]
  },
  {
   "cell_type": "code",
   "execution_count": 4,
   "metadata": {},
   "outputs": [],
   "source": [
    "kernel = gpflow.kernels.RBF(variance=2.)\n",
    "likelihood = gpflow.likelihoods.Gaussian()\n",
    "features = np.linspace(0, 10, num_features).reshape(-1, 1)\n",
    "\n",
    "model = gpflow.models.SVGP(kernel=kernel, likelihood=likelihood, feature=features)"
   ]
  },
  {
   "cell_type": "markdown",
   "metadata": {},
   "source": [
    "You can set a module (or a particular parameter) to be non-trainable using the auxiliary method ```set_trainable(module, False)```"
   ]
  },
  {
   "cell_type": "code",
   "execution_count": 5,
   "metadata": {},
   "outputs": [],
   "source": [
    "from gpflow.utilities.training import set_trainable\n",
    "\n",
    "set_trainable(likelihood, False)\n",
    "set_trainable(kernel.variance, False)\n",
    "\n",
    "set_trainable(likelihood, True)\n",
    "set_trainable(kernel.variance, True)"
   ]
  },
  {
   "cell_type": "markdown",
   "metadata": {},
   "source": [
    "We can use ```param.assign(value)``` to assign a value to a parameter:"
   ]
  },
  {
   "cell_type": "code",
   "execution_count": 6,
   "metadata": {},
   "outputs": [],
   "source": [
    "kernel.lengthscale.assign(0.5)"
   ]
  },
  {
   "cell_type": "markdown",
   "metadata": {},
   "source": [
    "All these changes are reflected when we use ```print_summary(model)``` to print a detailed summary of the model."
   ]
  },
  {
   "cell_type": "code",
   "execution_count": 7,
   "metadata": {},
   "outputs": [],
   "source": [
    "# from gpflow.utilities.printing import print_summary\n",
    "# print_summary(model)"
   ]
  },
  {
   "cell_type": "markdown",
   "metadata": {},
   "source": [
    "## Training using Gradient Tapes\n",
    "\n",
    "In TensorFlow2.0, we can optimise (trainable) model parameters with Tensorflow optimizers using GradientTapes. In this simple example, we perform one gradient update of the Adam optimizer to minimize the negative marginal log likelihood (or ELBO) of our model."
   ]
  },
  {
   "cell_type": "code",
   "execution_count": 8,
   "metadata": {},
   "outputs": [
    {
     "data": {
      "text/plain": [
       "<tf.Variable 'UnreadVariable' shape=() dtype=int64, numpy=1>"
      ]
     },
     "execution_count": 8,
     "metadata": {},
     "output_type": "execute_result"
    }
   ],
   "source": [
    "optimizer = tf.optimizers.Adam()\n",
    "\n",
    "with tf.GradientTape() as tape:\n",
    "    tape.watch(model.trainable_variables)\n",
    "    elbo = model.elbo(X, Y)\n",
    "    grads = tape.gradient(elbo, model.trainable_variables)\n",
    "    \n",
    "optimizer.apply_gradients(zip(grads, model.trainable_variables))"
   ]
  },
  {
   "cell_type": "markdown",
   "metadata": {},
   "source": [
    "For a more elaborare example of a gradient update we can define an ```optimization_step``` that uses decorator ```tf.function``` on a closure. A closure is callable that returns the model objective evaluated at a given dataset when called."
   ]
  },
  {
   "cell_type": "code",
   "execution_count": 9,
   "metadata": {},
   "outputs": [],
   "source": [
    "def optimization_step(model: gpflow.models.SVGP, batch: Tuple[tf.Tensor, tf.Tensor]):\n",
    "    with tf.GradientTape(watch_accessed_variables=False) as tape:\n",
    "        tape.watch(model.trainable_variables)\n",
    "        elbo = model.elbo(*batch)\n",
    "        grads = tape.gradient(elbo, model.trainable_variables)\n",
    "    optimizer.apply_gradients(zip(grads, model.trainable_variables))"
   ]
  },
  {
   "cell_type": "markdown",
   "metadata": {},
   "source": [
    "We can make use the functionality of TensorFlow Datasets to define a simple training loop that iterates over batches of the training dataset: "
   ]
  },
  {
   "cell_type": "code",
   "execution_count": 10,
   "metadata": {},
   "outputs": [],
   "source": [
    "def simple_training_loop(model: gpflow.models.SVGP, epochs: int = 1, logging_epoch_freq: int = 10):\n",
    "    batches = iter(train_dataset)\n",
    "    tf_optimization_step = tf.function(optimization_step)\n",
    "    for epoch in range(epochs):\n",
    "        for _ in range(num_batches_per_epoch):\n",
    "            tf_optimization_step(model, next(batches))\n",
    "\n",
    "        epoch_id = epoch + 1\n",
    "        if epoch_id % logging_epoch_freq == 0:\n",
    "            tf.print(f\"Epoch {epoch_id}: ELBO (train) {model.elbo(X, Y)}\")"
   ]
  },
  {
   "cell_type": "code",
   "execution_count": 11,
   "metadata": {
    "scrolled": true
   },
   "outputs": [
    {
     "name": "stdout",
     "output_type": "stream",
     "text": [
      "<tensorflow.python.data.ops.iterator_ops.IteratorV2 object at 0x135cf0240>\n"
     ]
    },
    {
     "name": "stderr",
     "output_type": "stream",
     "text": [
      "W0622 21:48:08.433741 4372366784 ag_logging.py:145] Entity <bound method Dispatcher.dispatch_iter of <dispatched conditional>> appears to be a generator function. It will not be converted by AutoGraph.\n"
     ]
    },
    {
     "name": "stdout",
     "output_type": "stream",
     "text": [
      "WARNING: Entity <bound method Dispatcher.dispatch_iter of <dispatched conditional>> appears to be a generator function. It will not be converted by AutoGraph.\n"
     ]
    },
    {
     "name": "stderr",
     "output_type": "stream",
     "text": [
      "W0622 21:48:09.151643 4372366784 ag_logging.py:145] Entity <bound method Dispatcher.dispatch_iter of <dispatched Kuf>> appears to be a generator function. It will not be converted by AutoGraph.\n"
     ]
    },
    {
     "name": "stdout",
     "output_type": "stream",
     "text": [
      "WARNING: Entity <bound method Dispatcher.dispatch_iter of <dispatched Kuf>> appears to be a generator function. It will not be converted by AutoGraph.\n",
      "Epoch 2: ELBO (train) 212.29663302150476\n",
      "Epoch 4: ELBO (train) 211.04060658136456\n",
      "Epoch 6: ELBO (train) 209.76161048220303\n",
      "Epoch 8: ELBO (train) 208.46305694165406\n",
      "Epoch 10: ELBO (train) 207.13941719416468\n"
     ]
    }
   ],
   "source": [
    "simple_training_loop(model, epochs=10, logging_epoch_freq=2)"
   ]
  },
  {
   "cell_type": "markdown",
   "metadata": {},
   "source": [
    "## Monitoring \n",
    "\n",
    "We can monitor the training procedure using TensorFlow summary. First we create a summary writer object under which we can write scalar and images."
   ]
  },
  {
   "cell_type": "code",
   "execution_count": 14,
   "metadata": {},
   "outputs": [],
   "source": [
    "from intro_to_gpflow2_plotting import plotting_regression, summary_matplotlib_image\n",
    "\n",
    "samples_input = tf.cast(np.linspace(0, 10, 100).reshape(100, 1), default_float())\n",
    "\n",
    "def monitored_training_loop(model: gpflow.models.SVGP, logdir: str, epochs: int = 1, logging_epoch_freq: int = 10, num_samples: int = 10):\n",
    "    summary_writer = tf.summary.create_file_writer(logdir)\n",
    "    tf_optimization_step = tf.function(optimization_step)\n",
    "    batches = iter(train_dataset)\n",
    "\n",
    "    with summary_writer.as_default():\n",
    "        for epoch in range(epochs):\n",
    "            for _ in range(num_batches_per_epoch):\n",
    "                tf_optimization_step(model, next(batches))\n",
    "\n",
    "            epoch_id = epoch + 1\n",
    "            if epoch_id % logging_epoch_freq == 0:\n",
    "                tf.print(f\"Epoch {epoch_id}: ELBO (train) {model.elbo(X, Y)}\")\n",
    "\n",
    "                mean, var = model.predict_f(samples_input)\n",
    "                samples = model.predict_f_samples(samples_input, num_samples)\n",
    "                fig = plotting_regression(X, Y, samples_input, mean, var, samples)\n",
    "                \n",
    "                summary_matplotlib_image(dict(model_samples=fig), step=epoch)\n",
    "                tf.summary.scalar('elbo', data=model.elbo(X, Y), step=epoch)\n",
    "                tf.summary.scalar('likelihood/variance', data=model.likelihood.variance, step=epoch)\n",
    "                tf.summary.scalar('kernel/lengthscale', data=model.kernel.lengthscale, step=epoch)\n",
    "                tf.summary.scalar('kernel/variance', data=model.kernel.variance, step=epoch)"
   ]
  },
  {
   "cell_type": "code",
   "execution_count": 15,
   "metadata": {
    "scrolled": true
   },
   "outputs": [
    {
     "name": "stdout",
     "output_type": "stream",
     "text": [
      "Epoch 100: ELBO (train) 144.14400885717626\n",
      "Epoch 200: ELBO (train) 118.77724182234402\n",
      "Epoch 300: ELBO (train) 111.3789308748235\n",
      "Epoch 400: ELBO (train) 108.96818161780133\n",
      "Epoch 500: ELBO (train) 107.86963393758975\n",
      "Epoch 600: ELBO (train) 107.16827880009352\n",
      "Epoch 700: ELBO (train) 106.64628531041235\n",
      "Epoch 800: ELBO (train) 106.24895329819464\n",
      "Epoch 900: ELBO (train) 105.94935349804861\n",
      "Epoch 1000: ELBO (train) 105.7389757898661\n",
      "output_dir = /tmp/tensorboard/0\n"
     ]
    }
   ],
   "source": [
    "model = gpflow.models.SVGP(kernel=kernel, likelihood=likelihood, feature=features)\n",
    "\n",
    "output_logdir = enumerated_logdir()\n",
    "monitored_training_loop(model, output_logdir, epochs=1000, logging_epoch_freq=100)\n",
    "print(f\"output_dir = {output_logdir}\")"
   ]
  },
  {
   "cell_type": "markdown",
   "metadata": {},
   "source": [
    "Then, we can then use TensorBoard to examine the training procedure more in detail"
   ]
  },
  {
   "cell_type": "code",
   "execution_count": 16,
   "metadata": {},
   "outputs": [
    {
     "data": {
      "text/plain": [
       "Reusing TensorBoard on port 6007 (pid 1594), started 9:35:29 ago. (Use '!kill 1594' to kill it.)"
      ]
     },
     "metadata": {},
     "output_type": "display_data"
    },
    {
     "data": {
      "text/html": [
       "\n",
       "        <iframe\n",
       "            width=\"100%\"\n",
       "            height=\"800\"\n",
       "            src=\"http://localhost:6007\"\n",
       "            frameborder=\"0\"\n",
       "            allowfullscreen\n",
       "        ></iframe>\n",
       "        "
      ],
      "text/plain": [
       "<IPython.lib.display.IFrame at 0x125eea2b0>"
      ]
     },
     "metadata": {},
     "output_type": "display_data"
    }
   ],
   "source": [
    "%tensorboard --logdir \"{tb_logdir}\""
   ]
  },
  {
   "cell_type": "markdown",
   "metadata": {},
   "source": [
    "## Checkpointing: saving and loading models\n",
    "\n",
    "With the help of `tf.train.CheckpointManager` and `tf.train.Checkpoint`, we can checkpoint the model throughout the training procedure. Let's start with a simple example using checkpointing to save and load `tf.Variables`:"
   ]
  },
  {
   "cell_type": "code",
   "execution_count": 16,
   "metadata": {},
   "outputs": [
    {
     "name": "stdout",
     "output_type": "stream",
     "text": [
      "Current value of variable a: 0.330000\n",
      "Value of variable a: 1.200000\n"
     ]
    }
   ],
   "source": [
    "a = tf.Variable(1.2)\n",
    "# Create Checkpoint object\n",
    "checkpoint_obj = tf.train.Checkpoint(a=a)\n",
    "checkpoint_path = '/tmp/simple_example/' + datetime.datetime.now().strftime(\"%Y%m%d-%H%M\")\n",
    "manager = tf.train.CheckpointManager(checkpoint_obj, checkpoint_path, max_to_keep=10)\n",
    "# Save variable\n",
    "manager.save()\n",
    "a.assign(0.33)\n",
    "print('Current value of variable a: %f' % (a.numpy()))\n",
    "checkpoint_obj.restore(manager.latest_checkpoint)\n",
    "print('Value of variable a: %f' % (a.numpy()))"
   ]
  },
  {
   "cell_type": "markdown",
   "metadata": {},
   "source": [
    "In this example bellow, we modify a simple training loop to save the model every 100 epochs using the CheckpointManager."
   ]
  },
  {
   "cell_type": "code",
   "execution_count": 17,
   "metadata": {},
   "outputs": [],
   "source": [
    "model = gpflow.models.SVGP(kernel=kernel, likelihood=likelihood, feature=feature)\n",
    "\n",
    "def checkpointing_training_loop(model, batch_size: int, epochs: int, manager: tf.train.CheckpointManager):\n",
    "    num_batches_per_epoch = int(N / batch_size)\n",
    "    batches = iter(dataset)\n",
    "    for epoch in range(epochs):\n",
    "        for _ in range(num_batches_per_epoch):\n",
    "            batch = next(batches_epoch)\n",
    "            optimization_step(batch)\n",
    "        epoch_id = epoch + 1\n",
    "        if epoch_id % 100 == 0:\n",
    "            ckpt_path = manager.save()\n",
    "            tf.print(f\"Epoch {epoch_it}: ELBO (train) {model.elbo(X, Y)}, saved at {ckpt_path}\")"
   ]
  },
  {
   "cell_type": "code",
   "execution_count": 19,
   "metadata": {},
   "outputs": [
    {
     "name": "stdout",
     "output_type": "stream",
     "text": [
      "Checkpoint folder path at: /tmp/tf_ckpts/20190620-1739\n",
      "Epoch 100 completed: ELBO training set 108.2411683, model checkpointing saved at /tmp/tf_ckpts/20190620-1739/ckpt-1\n",
      "Epoch 200 completed: ELBO training set 107.1402743, model checkpointing saved at /tmp/tf_ckpts/20190620-1739/ckpt-2\n",
      "Epoch 300 completed: ELBO training set 107.0170233, model checkpointing saved at /tmp/tf_ckpts/20190620-1739/ckpt-3\n",
      "Epoch 400 completed: ELBO training set 106.9882623, model checkpointing saved at /tmp/tf_ckpts/20190620-1739/ckpt-4\n",
      "Epoch 500 completed: ELBO training set 106.9795233, model checkpointing saved at /tmp/tf_ckpts/20190620-1739/ckpt-5\n",
      "Epoch 600 completed: ELBO training set 106.9766403, model checkpointing saved at /tmp/tf_ckpts/20190620-1739/ckpt-6\n",
      "Epoch 700 completed: ELBO training set 106.9756183, model checkpointing saved at /tmp/tf_ckpts/20190620-1739/ckpt-7\n",
      "Epoch 800 completed: ELBO training set 106.9751813, model checkpointing saved at /tmp/tf_ckpts/20190620-1739/ckpt-8\n",
      "Epoch 900 completed: ELBO training set 106.9749173, model checkpointing saved at /tmp/tf_ckpts/20190620-1739/ckpt-9\n",
      "Epoch 1000 completed: ELBO training set 106.9746913, model checkpointing saved at /tmp/tf_ckpts/20190620-1739/ckpt-10\n"
     ]
    }
   ],
   "source": [
    "checkpoint_path = enumerated_logdir()\n",
    "print(f\"TensorFlow logdir for this run: {checkpoint_path}\")\n",
    "\n",
    "ckpt = tf.train.Checkpoint(model=model)\n",
    "manager = tf.train.CheckpointManager(ckpt, checkpoint_path, max_to_keep=10)\n",
    "print(f\"Checkpoint folder path at: {checkpoint_path}\")\n",
    "\n",
    "checkpointing_training_loop(model, batch_size=batch_size, epochs=1000, manager=manager)"
   ]
  },
  {
   "cell_type": "markdown",
   "metadata": {},
   "source": [
    "Once the models have been saved, we can resore them using ```tf.train.Checkpoint.restore``` and assert their performance corresponds to the logs during training."
   ]
  },
  {
   "cell_type": "code",
   "execution_count": 20,
   "metadata": {},
   "outputs": [
    {
     "name": "stdout",
     "output_type": "stream",
     "text": [
      "Restored model from epoch 1 : ELBO training set 108.2411683\n",
      "Restored model from epoch 2 : ELBO training set 107.1402743\n",
      "Restored model from epoch 3 : ELBO training set 107.0170233\n",
      "Restored model from epoch 4 : ELBO training set 106.9882623\n",
      "Restored model from epoch 5 : ELBO training set 106.9795233\n",
      "Restored model from epoch 6 : ELBO training set 106.9766403\n",
      "Restored model from epoch 7 : ELBO training set 106.9756183\n",
      "Restored model from epoch 8 : ELBO training set 106.9751813\n",
      "Restored model from epoch 9 : ELBO training set 106.9749173\n",
      "Restored model from epoch 10 : ELBO training set 106.9746913\n"
     ]
    }
   ],
   "source": [
    "for i, recorded_checkpoint in enumerate(manager.checkpoints): \n",
    "    ckpt.restore(recorded_checkpoint)\n",
    "    print(r'Restored model from epoch %i : ELBO training set %f3' % (\n",
    "        i + 1, model.neg_log_marginal_likelihood(X,Y))\n",
    "         )"
   ]
  },
  {
   "cell_type": "code",
   "execution_count": null,
   "metadata": {},
   "outputs": [],
   "source": [
    "warnings.filterwarnings('ignore')"
   ]
  }
 ],
 "metadata": {
  "kernelspec": {
   "display_name": "Python 3",
   "language": "python",
   "name": "python3"
  },
  "language_info": {
   "codemirror_mode": {
    "name": "ipython",
    "version": 3
   },
   "file_extension": ".py",
   "mimetype": "text/x-python",
   "name": "python",
   "nbconvert_exporter": "python",
   "pygments_lexer": "ipython3",
   "version": "3.6.8"
  }
 },
 "nbformat": 4,
 "nbformat_minor": 2
}
