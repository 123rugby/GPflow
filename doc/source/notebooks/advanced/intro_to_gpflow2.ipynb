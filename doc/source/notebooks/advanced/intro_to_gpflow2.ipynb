{
 "cells": [
  {
   "cell_type": "markdown",
   "metadata": {},
   "source": [
    "# GPflow with TF 2.0"
   ]
  },
  {
   "cell_type": "code",
   "execution_count": 18,
   "metadata": {},
   "outputs": [],
   "source": [
    "import tensorflow as tf\n",
    "import gpflow\n",
    "\n",
    "import numpy as np\n",
    "import matplotlib.pyplot as plt\n",
    "import datetime\n",
    "import io\n",
    "\n",
    "np.random.seed(0)"
   ]
  },
  {
   "cell_type": "markdown",
   "metadata": {},
   "source": [
    "## Loading data using TensorFlow Datasets\n",
    "\n",
    "For this example, we create a synthetic dataset (noisy sine function) "
   ]
  },
  {
   "cell_type": "code",
   "execution_count": 19,
   "metadata": {
    "scrolled": true
   },
   "outputs": [
    {
     "data": {
      "text/plain": [
       "(0, 10)"
      ]
     },
     "execution_count": 19,
     "metadata": {},
     "output_type": "execute_result"
    },
    {
     "data": {
      "image/png": "[encoded data removed]",
      "text/plain": [
       "<Figure size 432x288 with 1 Axes>"
      ]
     },
     "metadata": {
      "needs_background": "light"
     },
     "output_type": "display_data"
    }
   ],
   "source": [
    "def noisy_sin(x): \n",
    "    return np.sin(x) + 0.1 * np.random.randn(*x.shape)\n",
    "\n",
    "N, Ntest = 100, 500\n",
    "X, Xtest = np.random.rand(N, 1) * 10, np.random.rand(Ntest, 1) * 10\n",
    "Y, Ytest = noisy_sin(X), noisy_sin(Xtest)\n",
    "\n",
    "plt.plot(X, Y, 'xk')\n",
    "plt.xlim(0, 10)"
   ]
  },
  {
   "cell_type": "markdown",
   "metadata": {},
   "source": [
    "Working with Tensorflow Datasets is an efficient way to rapidly shuffle, iterate and batch from data."
   ]
  },
  {
   "cell_type": "code",
   "execution_count": 20,
   "metadata": {},
   "outputs": [],
   "source": [
    "dataset = tf.data.Dataset.from_tensors((X, Y))\n",
    "test_dataset = tf.data.Dataset.from_tensors((Xtest, Ytest))"
   ]
  },
  {
   "cell_type": "markdown",
   "metadata": {},
   "source": [
    "## Define a GP model\n",
    "\n",
    "In GPflow2.0, we use tf.Module to build all our models, as well as, their components (kernels, likelihoods, parameters, etc.). "
   ]
  },
  {
   "cell_type": "code",
   "execution_count": 31,
   "metadata": {},
   "outputs": [],
   "source": [
    "M = 10\n",
    "kern = gpflow.kernels.RBF(variance=2.)\n",
    "lik = gpflow.likelihoods.Gaussian()\n",
    "Z = np.linspace(0, 10, M).reshape(-1, 1)\n",
    "\n",
    "model = gpflow.models.SVGP(kernel=kern, likelihood=lik, feature=Z)\n",
    "\n",
    "def plotting_regression(m): \n",
    "    fig = plt.figure(0)\n",
    "    ## generate test points for prediction\n",
    "    xx = np.linspace(0, 10, 100).reshape(100, 1) # test points must be of shape (n, 1)\n",
    "\n",
    "    ## predict mean and variance of latent at test points\n",
    "    mean, var = m.predict_f(xx)\n",
    "\n",
    "    ## generate samples from posterior\n",
    "    samples = m.predict_f_samples(xx, 10)\n",
    "\n",
    "    ## plot \n",
    "    plt.figure(figsize=(12, 6))\n",
    "    plt.plot(X, Y, 'kx', mew=2)\n",
    "    plt.plot(xx, mean, 'C0', lw=2)\n",
    "    plt.fill_between(xx[:,0],\n",
    "                     mean[:,0] - 1.96 * np.sqrt(var[:,0]),\n",
    "                     mean[:,0] + 1.96 * np.sqrt(var[:,0]),\n",
    "                     color='C0', alpha=0.2)\n",
    "\n",
    "    plt.plot(xx, samples[:, :, 0].numpy().T, 'C0', linewidth=.5)\n",
    "    plt.ylim(-2., +2.)\n",
    "    plt.xlim(0, 10)\n",
    "    plt.close()\n",
    "    return fig "
   ]
  },
  {
   "cell_type": "markdown",
   "metadata": {},
   "source": [
    "You can set a module (or a particular parameter) to be non-trainable using the auxiliary method ```set_trainable(module, False)```"
   ]
  },
  {
   "cell_type": "code",
   "execution_count": 32,
   "metadata": {},
   "outputs": [],
   "source": [
    "from gpflow.utilities.training import set_trainable\n",
    "\n",
    "set_trainable(lik, False)\n",
    "set_trainable(kern.variance, False)"
   ]
  },
  {
   "cell_type": "markdown",
   "metadata": {},
   "source": [
    "We can use ```param.assign(value)``` to assign a value to a parameter:"
   ]
  },
  {
   "cell_type": "code",
   "execution_count": 33,
   "metadata": {},
   "outputs": [],
   "source": [
    "kern.lengthscale.assign(1.5)"
   ]
  },
  {
   "cell_type": "markdown",
   "metadata": {},
   "source": [
    "All these changes are reflect when we print a summary of the model using ```print_summary```"
   ]
  },
  {
   "cell_type": "code",
   "execution_count": 34,
   "metadata": {},
   "outputs": [],
   "source": [
    "# from gpflow.utilities.printing import print_summary\n",
    "# print_summary(model)"
   ]
  },
  {
   "cell_type": "markdown",
   "metadata": {},
   "source": [
    "## Training using Gradient Tapes\n",
    "\n",
    "In TensorFlow2.0, we can optimise (trainable) model parameters with Tensorflow optimizers using GradientTapes. In this simple example, we perform one gradient update of the Adam optimizer to minimize the negative marginal log likelihood (or ELBO) of the model."
   ]
  },
  {
   "cell_type": "code",
   "execution_count": 35,
   "metadata": {},
   "outputs": [
    {
     "data": {
      "text/plain": [
       "<tf.Variable 'UnreadVariable' shape=() dtype=int64, numpy=1>"
      ]
     },
     "execution_count": 35,
     "metadata": {},
     "output_type": "execute_result"
    }
   ],
   "source": [
    "optimizer = tf.optimizers.Adam()\n",
    "\n",
    "with tf.GradientTape() as tape: \n",
    "    tape.watch(model.trainable_variables)\n",
    "    loss = model.neg_log_marginal_likelihood(X, Y)\n",
    "    grads = tape.gradient(loss, model.trainable_variables)\n",
    "    \n",
    "optimizer.apply_gradients(zip(grads, model.trainable_variables))"
   ]
  },
  {
   "cell_type": "markdown",
   "metadata": {},
   "source": [
    "For a more elaborare example of a gradient update we can define an ```optimization_step``` that uses decorator ```tf.function``` on a closure. A closure is callable that returns the model objective evaluated at a given dataset when called."
   ]
  },
  {
   "cell_type": "code",
   "execution_count": 36,
   "metadata": {},
   "outputs": [],
   "source": [
    "class Closure: \n",
    "    def set_data(self, batch): \n",
    "        self.X, self.Y = batch\n",
    "        \n",
    "    @tf.function\n",
    "    def __call__(self): \n",
    "        return model.neg_log_marginal_likelihood(self.X, self.Y)\n",
    "\n",
    "closure = Closure()\n",
    "\n",
    "def optimization_step(batch): \n",
    "    closure.set_data(batch)\n",
    "    with tf.GradientTape() as tape: \n",
    "        tape.watch(model.trainable_variables)\n",
    "        loss = closure()\n",
    "        grads = tape.gradient(loss, model.trainable_variables)\n",
    "    optimizer.apply_gradients(zip(grads, model.trainable_variables))"
   ]
  },
  {
   "cell_type": "markdown",
   "metadata": {},
   "source": [
    "We can make use the functionality of TensorFlow Datasets to define a simple training loop that iterates over batches of the training dataset: "
   ]
  },
  {
   "cell_type": "code",
   "execution_count": 37,
   "metadata": {},
   "outputs": [],
   "source": [
    "def simple_training_loop(model, batch_size, epochs: int):\n",
    "    for epoch in range(epochs):\n",
    "        dataset.shuffle(buffer_size=10000)\n",
    "        batches_epoch = iter(dataset.batch(batch_size=batch_size))\n",
    "        for batch in batches_epoch:\n",
    "            optimization_step(batch)\n",
    "        if (epoch + 1) % 100 == 0: \n",
    "            print(r'Epoch %i completed: ELBO training set %f4' % (\n",
    "                epoch + 1, model.neg_log_marginal_likelihood(X,Y))\n",
    "                 )"
   ]
  },
  {
   "cell_type": "code",
   "execution_count": 38,
   "metadata": {
    "scrolled": true
   },
   "outputs": [
    {
     "name": "stdout",
     "output_type": "stream",
     "text": [
      "Epoch 100 completed: ELBO training set 175.2092604\n",
      "Epoch 200 completed: ELBO training set 148.7926434\n",
      "Epoch 300 completed: ELBO training set 131.6178494\n",
      "Epoch 400 completed: ELBO training set 120.9132944\n",
      "Epoch 500 completed: ELBO training set 114.4491514\n",
      "Epoch 600 completed: ELBO training set 110.5687754\n",
      "Epoch 700 completed: ELBO training set 108.2106554\n",
      "Epoch 800 completed: ELBO training set 106.7320284\n",
      "Epoch 900 completed: ELBO training set 105.7661594\n",
      "Epoch 1000 completed: ELBO training set 105.1155364\n"
     ]
    }
   ],
   "source": [
    "simple_training_loop(model, batch_size=10, epochs=1000)"
   ]
  },
  {
   "cell_type": "markdown",
   "metadata": {},
   "source": [
    "## Monitoring \n",
    "\n",
    "We can monitor the training procedure using TensorFlow summary. First we create a summary writer object under which we can write scalar and images."
   ]
  },
  {
   "cell_type": "code",
   "execution_count": 39,
   "metadata": {},
   "outputs": [],
   "source": [
    "model = gpflow.models.SVGP(kernel=kern, likelihood=lik, feature=Z)\n",
    "closure = Closure()\n",
    "\n",
    "def plot_to_image(figure):\n",
    "    \"\"\"Converts the matplotlib plot specified by 'figure' to a PNG image and\n",
    "    returns it. The supplied figure is closed and inaccessible after this call.\"\"\"\n",
    "    # Save the plot to a PNG in memory.\n",
    "    buf = io.BytesIO()\n",
    "    plt.savefig(buf, format='png')\n",
    "    plt.close(figure)\n",
    "    buf.seek(0)\n",
    "    # Convert PNG buffer to TF image\n",
    "    image = tf.image.decode_png(buf.getvalue(), channels=4)\n",
    "    # Add the batch dimension\n",
    "    image = tf.expand_dims(image, 0)\n",
    "    return image\n",
    "\n",
    "def monitored_training_loop(model, batch_size: int, epochs: int, log_dir: str):\n",
    "    summary_writer = tf.summary.create_file_writer(log_dir)\n",
    "    for epoch in range(epochs):\n",
    "        dataset.shuffle(buffer_size=10000)\n",
    "        batches_epoch = iter(dataset.batch(batch_size=batch_size))\n",
    "        for batch in batches_epoch:\n",
    "            optimization_step(batch)\n",
    "\n",
    "        with summary_writer.as_default():\n",
    "            tf.summary.scalar('loss', data=model.neg_log_marginal_likelihood(X,Y), step=epoch)\n",
    "            tf.summary.scalar('lik.variance', data=model.likelihood.variance, step=epoch)\n",
    "            tf.summary.scalar('kern.ls', data=model.kernel.lengthscale, step=epoch)\n",
    "            tf.summary.scalar('kern.variance', data=model.kernel.variance, step=epoch)\n",
    "            \n",
    "        if (epoch + 1) % 100 == 0: \n",
    "            print(r'Epoch %i completed: ELBO training set %f4' % (\n",
    "                epoch + 1, model.neg_log_marginal_likelihood(X,Y))\n",
    "                 )\n",
    "            fig = plotting_regression(model)\n",
    "            image = plot_to_image(fig)\n",
    "            with summary_writer.as_default():\n",
    "                tf.summary.image('model samples', data=image, step=epoch)"
   ]
  },
  {
   "cell_type": "code",
   "execution_count": 40,
   "metadata": {
    "scrolled": true
   },
   "outputs": [
    {
     "name": "stdout",
     "output_type": "stream",
     "text": [
      "Logs folder path: /tmp/logs/20190619-164740\n",
      "Epoch 100 completed: ELBO training set 122.7614824\n",
      "Epoch 200 completed: ELBO training set 110.3138694\n",
      "Epoch 300 completed: ELBO training set 106.5375514\n",
      "Epoch 400 completed: ELBO training set 105.0469204\n",
      "Epoch 500 completed: ELBO training set 104.3720594\n",
      "Epoch 600 completed: ELBO training set 104.0340454\n",
      "Epoch 700 completed: ELBO training set 103.8490794\n",
      "Epoch 800 completed: ELBO training set 103.7393254\n",
      "Epoch 900 completed: ELBO training set 103.6692304\n",
      "Epoch 1000 completed: ELBO training set 103.6215494\n"
     ]
    }
   ],
   "source": [
    "log_dir = '/tmp/logs/' + datetime.datetime.now().strftime(\"%Y%m%d-%H%M%S\")\n",
    "print(r'Logs folder path: %s' % (log_dir))\n",
    "\n",
    "monitored_training_loop(model, batch_size=10, epochs=1000, log_dir=log_dir)"
   ]
  },
  {
   "cell_type": "markdown",
   "metadata": {},
   "source": [
    "Then, we can then use Tensorboard to examine the training procedure more in detail."
   ]
  },
  {
   "cell_type": "code",
   "execution_count": 13,
   "metadata": {},
   "outputs": [],
   "source": [
    "# ! tensorboard --logdir '/tmp/logs/'"
   ]
  },
  {
   "cell_type": "markdown",
   "metadata": {},
   "source": [
    "## Checkpointing: saving and loading models\n",
    "\n",
    "With the help of `tf.train.CheckpointManager` and `tf.train.Checkpoint`, we can checkpoint the model throughout the training procedure."
   ]
  },
  {
   "cell_type": "code",
   "execution_count": 14,
   "metadata": {},
   "outputs": [],
   "source": [
    "model = gpflow.models.SVGP(kernel=kern, likelihood=lik, feature=Z)\n",
    "closure = Closure()\n",
    "\n",
    "def checkpointing_training_loop(model, batch_size: int, epochs: int, manager: tf.train.CheckpointManager):\n",
    "    \n",
    "    for epoch in range(epochs):\n",
    "        dataset.shuffle(buffer_size=10000)\n",
    "        batches_epoch = iter(dataset.batch(batch_size=batch_size))\n",
    "        for batch in batches_epoch:\n",
    "            optimization_step(batch)\n",
    "            \n",
    "        if (epoch + 1) % 100 == 0: \n",
    "            ckpt_path = manager.save()\n",
    "            print(r'Epoch %i completed: ELBO training set %f3, model checkpointing saved at %s' % (\n",
    "                epoch + 1, model.neg_log_marginal_likelihood(X,Y), ckpt_path)\n",
    "                 )"
   ]
  },
  {
   "cell_type": "code",
   "execution_count": 15,
   "metadata": {},
   "outputs": [
    {
     "name": "stdout",
     "output_type": "stream",
     "text": [
      "Checkpoint folder path at: /tmp/tf_ckpts/20190619-1645\n",
      "Epoch 100 completed: ELBO training set 118.1122633, model checkpointing saved at /tmp/tf_ckpts/20190619-1645/ckpt-1\n",
      "Epoch 200 completed: ELBO training set 108.1360393, model checkpointing saved at /tmp/tf_ckpts/20190619-1645/ckpt-2\n",
      "Epoch 300 completed: ELBO training set 105.4332903, model checkpointing saved at /tmp/tf_ckpts/20190619-1645/ckpt-3\n",
      "Epoch 400 completed: ELBO training set 104.4496843, model checkpointing saved at /tmp/tf_ckpts/20190619-1645/ckpt-4\n",
      "Epoch 500 completed: ELBO training set 104.0296083, model checkpointing saved at /tmp/tf_ckpts/20190619-1645/ckpt-5\n",
      "Epoch 600 completed: ELBO training set 103.8254103, model checkpointing saved at /tmp/tf_ckpts/20190619-1645/ckpt-6\n",
      "Epoch 700 completed: ELBO training set 103.7141443, model checkpointing saved at /tmp/tf_ckpts/20190619-1645/ckpt-7\n",
      "Epoch 800 completed: ELBO training set 103.6471043, model checkpointing saved at /tmp/tf_ckpts/20190619-1645/ckpt-8\n",
      "Epoch 900 completed: ELBO training set 103.6031493, model checkpointing saved at /tmp/tf_ckpts/20190619-1645/ckpt-9\n",
      "Epoch 1000 completed: ELBO training set 103.5724103, model checkpointing saved at /tmp/tf_ckpts/20190619-1645/ckpt-10\n"
     ]
    }
   ],
   "source": [
    "ckpt = tf.train.Checkpoint(model=model)\n",
    "checkpoint_path = '/tmp/tf_ckpts/' + datetime.datetime.now().strftime(\"%Y%m%d-%H%M\")\n",
    "\n",
    "manager = tf.train.CheckpointManager(ckpt, checkpoint_path, max_to_keep=10)         \n",
    "print(r'Checkpoint folder path at: %s' % (checkpoint_path))\n",
    "\n",
    "checkpointing_training_loop(model, batch_size=10, epochs=1000, manager=manager)"
   ]
  },
  {
   "cell_type": "markdown",
   "metadata": {},
   "source": [
    "Once the models have been saved, we can resore them using ```tf.train.Checkpoint.restore```."
   ]
  },
  {
   "cell_type": "code",
   "execution_count": 16,
   "metadata": {},
   "outputs": [
    {
     "name": "stdout",
     "output_type": "stream",
     "text": [
      "Restored model from epoch 0 : ELBO training set 118.1122633\n",
      "Restored model from epoch 1 : ELBO training set 108.1360393\n",
      "Restored model from epoch 2 : ELBO training set 105.4332903\n",
      "Restored model from epoch 3 : ELBO training set 104.4496843\n",
      "Restored model from epoch 4 : ELBO training set 104.0296083\n",
      "Restored model from epoch 5 : ELBO training set 103.8254103\n",
      "Restored model from epoch 6 : ELBO training set 103.7141443\n",
      "Restored model from epoch 7 : ELBO training set 103.6471043\n",
      "Restored model from epoch 8 : ELBO training set 103.6031493\n",
      "Restored model from epoch 9 : ELBO training set 103.5724103\n"
     ]
    }
   ],
   "source": [
    "for i, recorded_checkpoint in enumerate(manager.checkpoints): \n",
    "    ckpt.restore(recorded_checkpoint)\n",
    "    print(r'Restored model from epoch %i : ELBO training set %f3' % (\n",
    "        i, model.neg_log_marginal_likelihood(X,Y))\n",
    "         )"
   ]
  },
  {
   "cell_type": "code",
   "execution_count": null,
   "metadata": {},
   "outputs": [],
   "source": []
  }
 ],
 "metadata": {
  "kernelspec": {
   "display_name": "tf2_monitoring",
   "language": "python",
   "name": "tf2_monitoring"
  },
  "language_info": {
   "codemirror_mode": {
    "name": "ipython",
    "version": 3
   },
   "file_extension": ".py",
   "mimetype": "text/x-python",
   "name": "python",
   "nbconvert_exporter": "python",
   "pygments_lexer": "ipython3",
   "version": "3.6.7"
  }
 },
 "nbformat": 4,
 "nbformat_minor": 2
}
