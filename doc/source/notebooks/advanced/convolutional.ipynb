{
 "cells": [
  {
   "cell_type": "markdown",
   "metadata": {},
   "source": [
    "# Convolutional Gaussian Processes\n",
    "Mark van der Wilk (July 2019)\n",
    "\n",
    "Here we show a simple example of the rectangles experiment, where we compare a normal squared exponential GP, and a convolutional GP. This is similar to the experiment in [1].\n",
    "\n",
    "[1] Van der Wilk, Rasmussen, Hensman (2017). Convolutional Gaussian Processes. *Advances in Neural Information Processing Systems 30*."
   ]
  },
  {
   "cell_type": "markdown",
   "metadata": {},
   "source": [
    "## Generate dataset\n",
    "Generate a simple dataset of rectangles. We want to classify whether they are tall or wide. **NOTE:** Here we take care to make sure that the rectangles don't touch the edge, which is different to the original paper. We do this to avoid needing to use patch weights, which are needed to correctly account for edge effects."
   ]
  },
  {
   "cell_type": "code",
   "execution_count": 1,
   "metadata": {},
   "outputs": [],
   "source": [
    "import numpy as np\n",
    "import matplotlib.pyplot as plt\n",
    "import gpflow\n",
    "import tensorflow as tf\n",
    "import tensorflow_probability as tfp\n",
    "import time\n",
    "import os\n",
    "\n",
    "gpflow.config.set_default_float(np.float64)\n",
    "gpflow.config.set_default_jitter(1e-4)\n",
    "gpflow.config.set_default_summary_fmt(\"notebook\")\n",
    "\n",
    "def is_continuous_integration():\n",
    "    return os.environ.get('CI', None) is not None\n",
    "\n",
    "MAXITER = 2 if is_continuous_integration() else 100\n",
    "NUM_TRAIN_DATA = 5 if is_continuous_integration() else 100  # This is less than in the original rectangles dataset\n",
    "NUM_TEST_DATA = 7 if is_continuous_integration() else 300"
   ]
  },
  {
   "cell_type": "code",
   "execution_count": 2,
   "metadata": {},
   "outputs": [],
   "source": [
    "def make_rectangle(arr, x0, y0, x1, y1):\n",
    "    arr[y0:y1, x0] = 1\n",
    "    arr[y0:y1, x1] = 1\n",
    "    arr[y0, x0:x1] = 1\n",
    "    arr[y1, x0:x1+1] = 1\n",
    "    \n",
    "def make_random_rectangle(arr):\n",
    "    x0 = np.random.randint(1, arr.shape[1] - 3)\n",
    "    y0 = np.random.randint(1, arr.shape[0] - 3)\n",
    "    x1 = np.random.randint(x0 + 2, arr.shape[1] - 1)\n",
    "    y1 = np.random.randint(y0 + 2, arr.shape[0] - 1)\n",
    "    make_rectangle(arr, x0, y0, x1, y1)\n",
    "    return x0, y0, x1, y1\n",
    "    \n",
    "def make_rectangles_dataset(num, w, h):\n",
    "    d, Y = np.zeros((num, h, w)), np.zeros((num, 1))\n",
    "    for i, img in enumerate(d):\n",
    "        for j in range(1000):  # Finite number of tries\n",
    "            x0, y0, x1, y1 = make_random_rectangle(img)\n",
    "            rw, rh = y1 - y0, x1 - x0\n",
    "            if rw == rh:\n",
    "                img[:, :] = 0\n",
    "                continue\n",
    "            Y[i, 0] = rw > rh\n",
    "            break\n",
    "    return d.reshape(num, w * h).astype(gpflow.config.default_float()), Y.astype(gpflow.config.default_float())"
   ]
  },
  {
   "cell_type": "code",
   "execution_count": 3,
   "metadata": {},
   "outputs": [],
   "source": [
    "X, Y = data = make_rectangles_dataset(NUM_TRAIN_DATA, 28, 28)\n",
    "Xt, Yt = test_data = make_rectangles_dataset(NUM_TEST_DATA, 28, 28)"
   ]
  },
  {
   "cell_type": "code",
   "execution_count": 4,
   "metadata": {},
   "outputs": [
    {
     "data": {
      "image/png": "[encoded data removed]",
      "text/plain": [
       "<Figure size 576x216 with 4 Axes>"
      ]
     },
     "metadata": {
      "needs_background": "light"
     },
     "output_type": "display_data"
    }
   ],
   "source": [
    "plt.figure(figsize=(8, 3))\n",
    "for i in range(4):\n",
    "    plt.subplot(1, 4, i + 1)\n",
    "    plt.imshow(X[i, :].reshape(28, 28))\n",
    "    plt.title(Y[i, 0])"
   ]
  },
  {
   "cell_type": "markdown",
   "metadata": {},
   "source": [
    "## Squared Exponential kernel"
   ]
  },
  {
   "cell_type": "code",
   "execution_count": 5,
   "metadata": {},
   "outputs": [],
   "source": [
    "rbf_m = gpflow.models.SVGP(gpflow.kernels.SquaredExponential(), gpflow.likelihoods.Bernoulli(),\n",
    "                           gpflow.inducing_variables.InducingPoints(X.copy()))"
   ]
  },
  {
   "cell_type": "code",
   "execution_count": 6,
   "metadata": {},
   "outputs": [
    {
     "name": "stdout",
     "output_type": "stream",
     "text": [
      "RBF elbo before training: -9.9408e+01\n"
     ]
    }
   ],
   "source": [
    "rbf_m_log_likelihood = rbf_m.log_likelihood\n",
    "print(\"RBF elbo before training: %.4e\" % rbf_m_log_likelihood(data))\n",
    "rbf_m_log_likelihood = tf.function(rbf_m_log_likelihood)"
   ]
  },
  {
   "cell_type": "code",
   "execution_count": 7,
   "metadata": {},
   "outputs": [
    {
     "name": "stdout",
     "output_type": "stream",
     "text": [
      "17.447 iter/s\n"
     ]
    }
   ],
   "source": [
    "gpflow.utilities.set_trainable(rbf_m.inducing_variable, False)\n",
    "start_time = time.time()\n",
    "res = gpflow.optimizers.Scipy().minimize(\n",
    "    lambda: -rbf_m_log_likelihood(data),\n",
    "    variables=rbf_m.trainable_variables,\n",
    "    method=\"l-bfgs-b\",\n",
    "    options={\"disp\": True, \"maxiter\": MAXITER})\n",
    "print(f\"{res.nfev / (time.time() - start_time):.3f} iter/s\")"
   ]
  },
  {
   "cell_type": "code",
   "execution_count": 8,
   "metadata": {},
   "outputs": [
    {
     "name": "stdout",
     "output_type": "stream",
     "text": [
      "Train acc: 100.0%\n",
      "Test acc : 64.66666666666666%\n",
      "RBF elbo after training: -6.3855e+01\n"
     ]
    }
   ],
   "source": [
    "train_err = np.mean((rbf_m.predict_y(X)[0] > 0.5).numpy().astype('float') == Y)\n",
    "test_err = np.mean((rbf_m.predict_y(Xt)[0] > 0.5).numpy().astype('float') == Yt)\n",
    "print(f\"Train acc: {train_err * 100}%\\nTest acc : {test_err*100}%\")\n",
    "print(\"RBF elbo after training: %.4e\" % rbf_m_log_likelihood(data))"
   ]
  },
  {
   "cell_type": "markdown",
   "metadata": {},
   "source": [
    "## Convolutional kernel"
   ]
  },
  {
   "cell_type": "code",
   "execution_count": 9,
   "metadata": {},
   "outputs": [
    {
     "name": "stdout",
     "output_type": "stream",
     "text": [
      "WARNING:tensorflow:From <ipython-input-9-5d0003b867e4>:2: AffineScalar.__init__ (from tensorflow_probability.python.bijectors.affine_scalar) is deprecated and will be removed after 2020-01-01.\n",
      "Instructions for updating:\n",
      "`AffineScalar` bijector is deprecated; please use `tfb.Shift(loc)(tfb.Scale(...))` instead.\n"
     ]
    }
   ],
   "source": [
    "f64 = lambda x: np.array(x, dtype=np.float64)\n",
    "positive_with_min = lambda: tfp.bijectors.AffineScalar(shift=f64(1e-4))(tfp.bijectors.Softplus())\n",
    "constrained = lambda: tfp.bijectors.AffineScalar(shift=f64(1e-4), scale=f64(100.0))(tfp.bijectors.Sigmoid())\n",
    "max_abs_1 = lambda: tfp.bijectors.AffineScalar(shift=f64(-2.0), scale=f64(4.0))(tfp.bijectors.Sigmoid())\n",
    "\n",
    "conv_k = gpflow.kernels.Convolutional(gpflow.kernels.SquaredExponential(), [28, 28], [3, 3])\n",
    "conv_k.basekern.lengthscale = gpflow.Parameter(1.0, transform=positive_with_min())\n",
    "# Weight scale and variance are non-identifiable. We also need to prevent variance from shooting off crazily.\n",
    "conv_k.basekern.variance = gpflow.Parameter(1.0, transform=constrained())\n",
    "conv_k.weights = gpflow.Parameter(conv_k.weights.numpy(), transform=max_abs_1())\n",
    "conv_f = gpflow.inducing_variables.InducingPatches(np.unique(conv_k.get_patches(X).numpy().reshape(-1, 9), axis=0))"
   ]
  },
  {
   "cell_type": "code",
   "execution_count": 10,
   "metadata": {},
   "outputs": [],
   "source": [
    "conv_m = gpflow.models.SVGP(conv_k, gpflow.likelihoods.Bernoulli(), conv_f)"
   ]
  },
  {
   "cell_type": "code",
   "execution_count": 11,
   "metadata": {},
   "outputs": [],
   "source": [
    "gpflow.utilities.set_trainable(conv_m.inducing_variable, False)\n",
    "conv_m.kernel.basekern.variance.trainable = False\n",
    "conv_m.kernel.weights.trainable = False"
   ]
  },
  {
   "cell_type": "code",
   "execution_count": 12,
   "metadata": {},
   "outputs": [
    {
     "name": "stdout",
     "output_type": "stream",
     "text": [
      "conv elbo before training: -9.3830e+01\n"
     ]
    }
   ],
   "source": [
    "conv_m_log_likelihood = conv_m.log_likelihood\n",
    "print(\"conv elbo before training: %.4e\" % conv_m_log_likelihood(data))\n",
    "conv_m_log_likelihood = tf.function(conv_m_log_likelihood)"
   ]
  },
  {
   "cell_type": "code",
   "execution_count": 13,
   "metadata": {},
   "outputs": [
    {
     "name": "stdout",
     "output_type": "stream",
     "text": [
      "1.056 iter/s\n"
     ]
    }
   ],
   "source": [
    "start_time = time.time()\n",
    "res = gpflow.optimizers.Scipy().minimize(\n",
    "    lambda: -conv_m_log_likelihood(data),\n",
    "    variables=conv_m.trainable_variables,\n",
    "    method=\"l-bfgs-b\",\n",
    "    options={\"disp\": True, \"maxiter\": MAXITER / 10})\n",
    "print(f\"{res.nfev / (time.time() - start_time):.3f} iter/s\")"
   ]
  },
  {
   "cell_type": "code",
   "execution_count": 14,
   "metadata": {},
   "outputs": [
    {
     "name": "stdout",
     "output_type": "stream",
     "text": [
      "Train acc: 93.0%\n",
      "Test acc : 92.33333333333333%\n"
     ]
    },
    {
     "name": "stdout",
     "output_type": "stream",
     "text": [
      "conv elbo after training: -4.1956e+01\n"
     ]
    }
   ],
   "source": [
    "conv_m.kernel.basekern.variance.trainable = True\n",
    "res = gpflow.optimizers.Scipy().minimize(\n",
    "    lambda: -conv_m.log_likelihood(data),\n",
    "    variables=conv_m.trainable_variables,\n",
    "    method=\"l-bfgs-b\",\n",
    "    options={\"disp\": True, \"maxiter\": MAXITER})\n",
    "train_err = np.mean((conv_m.predict_y(X)[0] > 0.5).numpy().astype('float') == Y)\n",
    "test_err = np.mean((conv_m.predict_y(Xt)[0] > 0.5).numpy().astype('float') == Yt)\n",
    "print(f\"Train acc: {train_err * 100}%\\nTest acc : {test_err*100}%\")\n",
    "print(\"conv elbo after training: %.4e\" % conv_m_log_likelihood(data))"
   ]
  },
  {
   "cell_type": "code",
   "execution_count": 15,
   "metadata": {},
   "outputs": [
    {
     "name": "stdout",
     "output_type": "stream",
     "text": [
      "Train acc: 93.0%\n",
      "Test acc : 92.0%\n"
     ]
    },
    {
     "name": "stdout",
     "output_type": "stream",
     "text": [
      "conv elbo after training: -4.1932e+01\n"
     ]
    }
   ],
   "source": [
    "res = gpflow.optimizers.Scipy().minimize(\n",
    "    lambda: -conv_m.log_likelihood(data),\n",
    "    variables=conv_m.trainable_variables,\n",
    "    method=\"l-bfgs-b\",\n",
    "    options={\"disp\": True, \"maxiter\": MAXITER})\n",
    "train_err = np.mean((conv_m.predict_y(X)[0] > 0.5).numpy().astype('float') == Y)\n",
    "test_err = np.mean((conv_m.predict_y(Xt)[0] > 0.5).numpy().astype('float') == Yt)\n",
    "print(f\"Train acc: {train_err * 100}%\\nTest acc : {test_err*100}%\")\n",
    "print(\"conv elbo after training: %.4e\" % conv_m_log_likelihood(data))"
   ]
  },
  {
   "cell_type": "code",
   "execution_count": 16,
   "metadata": {},
   "outputs": [
    {
     "name": "stdout",
     "output_type": "stream",
     "text": [
      "Train acc: 98.0%\n",
      "Test acc : 88.66666666666667%\n"
     ]
    },
    {
     "name": "stdout",
     "output_type": "stream",
     "text": [
      "conv elbo after training: -2.7390e+01\n"
     ]
    }
   ],
   "source": [
    "conv_m.kernel.weights.trainable = True\n",
    "res = gpflow.optimizers.Scipy().minimize(\n",
    "    lambda: -conv_m.log_likelihood(data),\n",
    "    variables=conv_m.trainable_variables,\n",
    "    method=\"l-bfgs-b\",\n",
    "    options={\"disp\": True, \"maxiter\": MAXITER})\n",
    "train_err = np.mean((conv_m.predict_y(X)[0] > 0.5).numpy().astype('float') == Y)\n",
    "test_err = np.mean((conv_m.predict_y(Xt)[0] > 0.5).numpy().astype('float') == Yt)\n",
    "print(f\"Train acc: {train_err * 100}%\\nTest acc : {test_err*100}%\")\n",
    "print(\"conv elbo after training: %.4e\" % conv_m_log_likelihood(data))"
   ]
  },
  {
   "cell_type": "code",
   "execution_count": 17,
   "metadata": {},
   "outputs": [
    {
     "data": {
      "text/html": [
       "<table>\n",
       "<thead>\n",
       "<tr><th>name                    </th><th>class    </th><th>transform     </th><th>prior  </th><th>trainable  </th><th>shape        </th><th>dtype  </th><th>value                                               </th></tr>\n",
       "</thead>\n",
       "<tbody>\n",
       "<tr><td>SVGP.kernel.variance    </td><td>Parameter</td><td>Softplus      </td><td>       </td><td>True       </td><td>()           </td><td>float64</td><td>3.457118370284257                                   </td></tr>\n",
       "<tr><td>SVGP.kernel.lengthscale </td><td>Parameter</td><td>Softplus      </td><td>       </td><td>True       </td><td>()           </td><td>float64</td><td>4.857950446247165                                   </td></tr>\n",
       "<tr><td>SVGP.inducing_variable.Z</td><td>Parameter</td><td>              </td><td>       </td><td>False      </td><td>(100, 784)   </td><td>float64</td><td>[[0., 0., 0....                                     </td></tr>\n",
       "<tr><td>SVGP.q_mu               </td><td>Parameter</td><td>              </td><td>       </td><td>True       </td><td>(100, 1)     </td><td>float64</td><td>[[-0.37698291...                                    </td></tr>\n",
       "<tr><td>SVGP.q_sqrt             </td><td>Parameter</td><td>FillTriangular</td><td>       </td><td>True       </td><td>(1, 100, 100)</td><td>float64</td><td>[[[5.52816127e-01, 0.00000000e+00, 0.00000000e+00...</td></tr>\n",
       "</tbody>\n",
       "</table>"
      ],
      "text/plain": [
       "<IPython.core.display.HTML object>"
      ]
     },
     "metadata": {},
     "output_type": "display_data"
    }
   ],
   "source": [
    "gpflow.utilities.print_summary(rbf_m)"
   ]
  },
  {
   "cell_type": "code",
   "execution_count": 18,
   "metadata": {},
   "outputs": [
    {
     "data": {
      "text/html": [
       "<table>\n",
       "<thead>\n",
       "<tr><th>name                            </th><th>class    </th><th>transform              </th><th>prior  </th><th>trainable  </th><th>shape      </th><th>dtype  </th><th>value                                               </th></tr>\n",
       "</thead>\n",
       "<tbody>\n",
       "<tr><td>SVGP.kernel.basekern.variance   </td><td>Parameter</td><td>Sigmoid + AffineScalar </td><td>       </td><td>True       </td><td>()         </td><td>float64</td><td>99.99408195639093                                   </td></tr>\n",
       "<tr><td>SVGP.kernel.basekern.lengthscale</td><td>Parameter</td><td>Softplus + AffineScalar</td><td>       </td><td>True       </td><td>()         </td><td>float64</td><td>0.18206481727107152                                 </td></tr>\n",
       "<tr><td>SVGP.kernel.weights             </td><td>Parameter</td><td>Sigmoid + AffineScalar </td><td>       </td><td>True       </td><td>(676,)     </td><td>float64</td><td>[0.71897672, 0.71897672, 0.69626364...              </td></tr>\n",
       "<tr><td>SVGP.inducing_variable.Z        </td><td>Parameter</td><td>                       </td><td>       </td><td>False      </td><td>(45, 9)    </td><td>float64</td><td>[[0., 0., 0....                                     </td></tr>\n",
       "<tr><td>SVGP.q_mu                       </td><td>Parameter</td><td>                       </td><td>       </td><td>True       </td><td>(45, 1)    </td><td>float64</td><td>[[0.03065722...                                     </td></tr>\n",
       "<tr><td>SVGP.q_sqrt                     </td><td>Parameter</td><td>FillTriangular         </td><td>       </td><td>True       </td><td>(1, 45, 45)</td><td>float64</td><td>[[[2.68651724e-02, 0.00000000e+00, 0.00000000e+00...</td></tr>\n",
       "</tbody>\n",
       "</table>"
      ],
      "text/plain": [
       "<IPython.core.display.HTML object>"
      ]
     },
     "metadata": {},
     "output_type": "display_data"
    }
   ],
   "source": [
    "gpflow.utilities.print_summary(conv_m)"
   ]
  },
  {
   "cell_type": "markdown",
   "metadata": {},
   "source": [
    "## Conclusion\n",
    "The convolutional kernel performs much better in this simple task. It demonstrates non-local generalization of the strong assumptions in the kernel."
   ]
  }
 ],
 "metadata": {
  "jupytext": {
   "formats": "ipynb,.pct.py:percent"
  },
  "kernelspec": {
   "display_name": "Python 3",
   "language": "python",
   "name": "python3"
  },
  "language_info": {
   "codemirror_mode": {
    "name": "ipython",
    "version": 3
   },
   "file_extension": ".py",
   "mimetype": "text/x-python",
   "name": "python",
   "nbconvert_exporter": "python",
   "pygments_lexer": "ipython3",
   "version": "3.7.6"
  }
 },
 "nbformat": 4,
 "nbformat_minor": 2
}
