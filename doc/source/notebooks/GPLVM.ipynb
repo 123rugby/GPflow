{
 "cells": [
  {
   "cell_type": "markdown",
   "metadata": {},
   "source": [
    "Bayesian GPLVM\n",
    "--\n",
    "This notebook shows how to use the Bayesian GPLVM model."
   ]
  },
  {
   "cell_type": "code",
   "execution_count": 1,
   "metadata": {
    "collapsed": false
   },
   "outputs": [],
   "source": [
    "import GPflow\n",
    "from GPflow import ekernels\n",
    "from GPflow import kernels\n",
    "import numpy as np\n",
    "import matplotlib as mpl\n",
    "import matplotlib.pyplot as plt\n",
    "import matplotlib.cm as cm\n",
    "plt.style.use('ggplot')\n",
    "%matplotlib inline\n",
    "import pods\n",
    "pods.datasets.overide_manual_authorize = True  # dont ask to authorize\n",
    "np.random.seed(42)\n",
    "GPflow.settings.numerics.quadrature = 'error'  # throw error if quadrature is used for kernel expectations"
   ]
  },
  {
   "cell_type": "markdown",
   "metadata": {},
   "source": [
    "### Data\n",
    "Install the oil dataset."
   ]
  },
  {
   "cell_type": "code",
   "execution_count": 2,
   "metadata": {
    "collapsed": false
   },
   "outputs": [
    {
     "name": "stdout",
     "output_type": "stream",
     "text": [
      "Number of points X Number of dimensions (100, 12)\n"
     ]
    },
    {
     "data": {
      "text/plain": [
       "'Bishop, C. M. and G. D. James (1993). Analysis of multiphase flows using dual-energy gamma densitometry and neural networks. Nuclear Instruments and Methods in Physics Research A327, 580-593'"
      ]
     },
     "execution_count": 2,
     "metadata": {},
     "output_type": "execute_result"
    }
   ],
   "source": [
    "data = pods.datasets.oil_100()\n",
    "Y = data['X']\n",
    "print('Number of points X Number of dimensions', Y.shape)\n",
    "data['citation']"
   ]
  },
  {
   "cell_type": "markdown",
   "metadata": {},
   "source": [
    "### Model construction\n",
    "Create Bayesian GPLVM model using additive kernel."
   ]
  },
  {
   "cell_type": "code",
   "execution_count": 3,
   "metadata": {
    "collapsed": false
   },
   "outputs": [],
   "source": [
    "Q = 5\n",
    "M = 20  # number of inducing pts\n",
    "N = Y.shape[0]\n",
    "X_mean = GPflow.gplvm.PCA_reduce(Y, Q) # Initialise via PCA\n",
    "Z = np.random.permutation(X_mean.copy())[:M]\n",
    "\n",
    "fHmmm = False\n",
    "if(fHmmm):\n",
    "    # This setting is forced to use quadrature. Due to the \"high\" dimension of the\n",
    "    # latent space, speed scales very badly with num_gauss_hermite_points.\n",
    "    k = ekernels.Add([ekernels.RBF(3, ARD=True, active_dims=slice(0,3)),\n",
    "                  ekernels.Linear(2, ARD=False, active_dims=slice(3,5))])\n",
    "    k.num_gauss_hermite_points = 5\n",
    "else:\n",
    "    k = ekernels.Add([ekernels.RBF(3, ARD=True, active_dims=[0,1,2]),\n",
    "                  ekernels.Linear(2, ARD=False, active_dims=[3, 4])])\n",
    "    \n",
    "m = GPflow.gplvm.BayesianGPLVM(X_mean=X_mean, X_std=0.1**0.5*np.ones((N, Q)), Y=Y,\n",
    "                                kern=k, M=M, Z=Z)\n",
    "m.likelihood.variance = 0.01"
   ]
  },
  {
   "cell_type": "code",
   "execution_count": 4,
   "metadata": {
    "collapsed": false,
    "scrolled": false
   },
   "outputs": [
    {
     "name": "stderr",
     "output_type": "stream",
     "text": [
      "/Users/markvdw/anaconda/lib/python3.5/site-packages/tensorflow/python/ops/gradients_impl.py:91: UserWarning: Converting sparse IndexedSlices to a dense Tensor of unknown shape. This may consume a large amount of memory.\n",
      "  \"Converting sparse IndexedSlices to a dense Tensor of unknown shape. \"\n",
      "/Users/markvdw/Documents/projects/gpflow/GPflow/model.py:282: VisibleDeprecationWarning: Use `maxiter` instead of deprecated `max_iters`.\n",
      "  warnings.warn(\"Use `maxiter` instead of deprecated `max_iters`.\", np.VisibleDeprecationWarning)\n"
     ]
    },
    {
     "data": {
      "text/plain": [
       "      fun: array([-177.70313764])\n",
       " hess_inv: <1106x1106 LbfgsInvHessProduct with dtype=float64>\n",
       "      jac: array([ 0.28076432, -1.27757646,  0.01614795, ..., -2.19371255,\n",
       "        0.02204875, -0.00340565])\n",
       "  message: b'STOP: TOTAL NO. of ITERATIONS EXCEEDS LIMIT'\n",
       "     nfev: 104\n",
       "      nit: 101\n",
       "   status: 1\n",
       "  success: False\n",
       "        x: array([-5.70659526,  0.45357139,  4.7288563 , ...,  0.27621004,\n",
       "        0.17646681, -0.34951813])"
      ]
     },
     "execution_count": 4,
     "metadata": {},
     "output_type": "execute_result"
    }
   ],
   "source": [
    "m.optimize(disp=True, max_iters=100)"
   ]
  },
  {
   "cell_type": "markdown",
   "metadata": {},
   "source": [
    "### Compute and sensitivity to input\n",
    "Sensitivity is a measure of the importance of each latent dimension. "
   ]
  },
  {
   "cell_type": "code",
   "execution_count": 5,
   "metadata": {
    "collapsed": false
   },
   "outputs": [
    {
     "name": "stdout",
     "output_type": "stream",
     "text": [
      "kern.rbf.\u001b[1mvariance\u001b[0m transform:+ve prior:None\n",
      "[ 0.9454323]\n",
      "kern.rbf.\u001b[1mlengthscales\u001b[0m transform:+ve prior:None\n",
      "[ 4.73765506  1.657317    4.10555156]\n",
      "kern.linear.\u001b[1mvariance\u001b[0m transform:+ve prior:None\n",
      "[ 0.00076401]\n",
      "[ 0.20523517  0.58669128  0.23683381]\n"
     ]
    },
    {
     "data": {
      "text/plain": [
       "<matplotlib.text.Text at 0x123a9e898>"
      ]
     },
     "execution_count": 5,
     "metadata": {},
     "output_type": "execute_result"
    },
    {
     "data": {
      "image/png": "[encoded data removed]",
      "text/plain": [
       "<matplotlib.figure.Figure at 0x122d3feb8>"
      ]
     },
     "metadata": {},
     "output_type": "display_data"
    }
   ],
   "source": [
    "kern = m.kern.kern_list[0]\n",
    "sens = np.sqrt(kern.variance.value)/kern.lengthscales.value\n",
    "print(m.kern)\n",
    "print(sens)\n",
    "fig, ax = plt.subplots()\n",
    "ax.bar(np.arange(len(kern.lengthscales.value)) , sens, 0.1, color='y')\n",
    "ax.set_title('Sensitivity to latent inputs')"
   ]
  },
  {
   "cell_type": "markdown",
   "metadata": {},
   "source": [
    "### Plotting vs PCA\n",
    "We see that using the 2 more relevant dimensions, the Bayesian GPLVM is able to seperate the\n",
    "three classes while PCA cannot."
   ]
  },
  {
   "cell_type": "code",
   "execution_count": 6,
   "metadata": {
    "collapsed": false
   },
   "outputs": [
    {
     "data": {
      "image/png": "[encoded data removed]",
      "text/plain": [
       "<matplotlib.figure.Figure at 0x123190630>"
      ]
     },
     "metadata": {},
     "output_type": "display_data"
    }
   ],
   "source": [
    "XPCAplot = GPflow.gplvm.PCA_reduce(data['X'], 2)\n",
    "f, ax = plt.subplots(1,2, figsize=(10,6))\n",
    "labels=data['Y'].argmax(axis=1)\n",
    "colors = cm.rainbow(np.linspace(0, 1, len(np.unique(labels))))\n",
    "\n",
    "for i, c in zip(np.unique(labels), colors):\n",
    "    ax[0].scatter(XPCAplot[labels==i,0], XPCAplot[labels==i,1], color=c, label=i)\n",
    "    ax[0].set_title('PCA')\n",
    "    ax[1].scatter(m.X_mean.value[labels==i,1], m.X_mean.value[labels==i,2], color=c, label=i)\n",
    "    ax[1].set_title('Bayesian GPLVM')"
   ]
  },
  {
   "cell_type": "code",
   "execution_count": null,
   "metadata": {
    "collapsed": true
   },
   "outputs": [],
   "source": []
  }
 ],
 "metadata": {
  "anaconda-cloud": {},
  "kernelspec": {
   "display_name": "Python [default]",
   "language": "python",
   "name": "python3"
  },
  "language_info": {
   "codemirror_mode": {
    "name": "ipython",
    "version": 3
   },
   "file_extension": ".py",
   "mimetype": "text/x-python",
   "name": "python",
   "nbconvert_exporter": "python",
   "pygments_lexer": "ipython3",
   "version": "3.5.2"
  }
 },
 "nbformat": 4,
 "nbformat_minor": 0
}
