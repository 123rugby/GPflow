{
 "cells": [
  {
   "cell_type": "markdown",
   "metadata": {},
   "source": [
    "Bayesian GPLVM with full rank covariance\n",
    "--\n",
    "This notebook shows the difference between a full rank and a diagonal variational distribution over the latent values."
   ]
  },
  {
   "cell_type": "code",
   "execution_count": 1,
   "metadata": {
    "collapsed": false
   },
   "outputs": [],
   "source": [
    "import GPflow\n",
    "from GPflow import ekernels\n",
    "from GPflow import kernels\n",
    "import numpy as np\n",
    "import matplotlib as mpl\n",
    "import matplotlib.pyplot as plt\n",
    "import matplotlib.cm as cm\n",
    "plt.style.use('ggplot')\n",
    "%matplotlib inline\n",
    "import pods\n",
    "pods.datasets.overide_manual_authorize = True  # dont ask to authorize\n",
    "np.random.seed(42)\n",
    "GPflow.settings.numerics.quadrature = 'error'  # throw error if quadrature is used for kernel expectations"
   ]
  },
  {
   "cell_type": "markdown",
   "metadata": {},
   "source": [
    "### Data\n",
    "Install the oil dataset."
   ]
  },
  {
   "cell_type": "code",
   "execution_count": 2,
   "metadata": {
    "collapsed": false
   },
   "outputs": [
    {
     "name": "stdout",
     "output_type": "stream",
     "text": [
      "Number of points X Number of dimensions (100, 12)\n"
     ]
    },
    {
     "data": {
      "text/plain": [
       "'Bishop, C. M. and G. D. James (1993). Analysis of multiphase flows using dual-energy gamma densitometry and neural networks. Nuclear Instruments and Methods in Physics Research A327, 580-593'"
      ]
     },
     "execution_count": 2,
     "metadata": {},
     "output_type": "execute_result"
    }
   ],
   "source": [
    "data = pods.datasets.oil_100()\n",
    "Y = data['X']\n",
    "print('Number of points X Number of dimensions', Y.shape)\n",
    "data['citation']"
   ]
  },
  {
   "cell_type": "markdown",
   "metadata": {},
   "source": [
    "### Model construction\n",
    "Create Bayesian GPLVM model using additive kernel."
   ]
  },
  {
   "cell_type": "code",
   "execution_count": 3,
   "metadata": {
    "collapsed": true
   },
   "outputs": [],
   "source": [
    "Q = 5\n",
    "M = 20  # number of inducing pts\n",
    "N = Y.shape[0]\n",
    "X_mean = GPflow.gplvm.PCA_reduce(Y, Q) # Initialise via PCA\n",
    "Z = np.random.permutation(X_mean.copy())[:M]\n",
    "kerngen = lambda: ekernels.RBF(Q, ARD=True)"
   ]
  },
  {
   "cell_type": "code",
   "execution_count": 4,
   "metadata": {
    "collapsed": false
   },
   "outputs": [
    {
     "name": "stderr",
     "output_type": "stream",
     "text": [
      "/Users/markvdw/Documents/projects/gpflow/GPflow/model.py:282: VisibleDeprecationWarning: Use `maxiter` instead of deprecated `max_iters`.\n",
      "  warnings.warn(\"Use `maxiter` instead of deprecated `max_iters`.\", np.VisibleDeprecationWarning)\n"
     ]
    },
    {
     "data": {
      "text/plain": [
       "      fun: array([-55.76014601])\n",
       " hess_inv: <1107x1107 LbfgsInvHessProduct with dtype=float64>\n",
       "      jac: array([  7.78151677e-01,   4.35708900e-01,   6.95508368e-04, ...,\n",
       "         4.32734021e-01,  -2.69053623e-01,   1.15131604e-01])\n",
       "  message: b'STOP: TOTAL NO. of ITERATIONS EXCEEDS LIMIT'\n",
       "     nfev: 109\n",
       "      nit: 101\n",
       "   status: 1\n",
       "  success: False\n",
       "        x: array([ 2.26896799,  8.07097457,  2.81557485, ...,  0.76222254,\n",
       "        1.06002485,  0.16109891])"
      ]
     },
     "execution_count": 4,
     "metadata": {},
     "output_type": "execute_result"
    }
   ],
   "source": [
    "mdiag = GPflow.gplvm.BayesianGPLVM(X_mean=X_mean.copy(), X_std=0.1**0.5*np.ones((N, Q)), Y=Y,\n",
    "                                kern=kerngen(), M=M, Z=Z.copy())\n",
    "mdiag.likelihood.variance = 0.01\n",
    "mdiag.optimize(disp=True, max_iters=100)"
   ]
  },
  {
   "cell_type": "code",
   "execution_count": 6,
   "metadata": {
    "collapsed": false,
    "scrolled": false
   },
   "outputs": [
    {
     "name": "stderr",
     "output_type": "stream",
     "text": [
      "/Users/markvdw/Documents/projects/gpflow/GPflow/model.py:282: VisibleDeprecationWarning: Use `maxiter` instead of deprecated `max_iters`.\n",
      "  warnings.warn(\"Use `maxiter` instead of deprecated `max_iters`.\", np.VisibleDeprecationWarning)\n"
     ]
    },
    {
     "data": {
      "text/plain": [
       "      fun: array([-313.8978956])\n",
       " hess_inv: <3107x3107 LbfgsInvHessProduct with dtype=float64>\n",
       "      jac: array([-1.10379347,  0.59952768, -0.63828397, ..., -0.6009192 ,\n",
       "        0.09215712, -0.46737469])\n",
       "  message: b'STOP: TOTAL NO. of ITERATIONS EXCEEDS LIMIT'\n",
       "     nfev: 104\n",
       "      nit: 101\n",
       "   status: 1\n",
       "  success: False\n",
       "        x: array([ 9.29645017,  3.2733933 ,  9.21135779, ..., -0.04729628,\n",
       "       -0.37093613,  0.07516274])"
      ]
     },
     "execution_count": 6,
     "metadata": {},
     "output_type": "execute_result"
    }
   ],
   "source": [
    "X_std_full = np.array([0.1**0.5*np.eye(Q) for _ in range(N)])\n",
    "mfull = GPflow.gplvm.BayesianGPLVM(X_mean=X_mean.copy(), X_std=X_std_full, Y=Y,\n",
    "                                kern=kerngen(), M=M, Z=Z.copy())\n",
    "mfull.likelihood.variance = 0.01\n",
    "mfull.optimize(disp=True, max_iters=100)"
   ]
  },
  {
   "cell_type": "code",
   "execution_count": 7,
   "metadata": {
    "collapsed": false
   },
   "outputs": [
    {
     "name": "stdout",
     "output_type": "stream",
     "text": [
      "kern.\u001b[1mvariance\u001b[0m transform:+ve prior:None\n",
      "[ 2.3673824]\n",
      "kern.\u001b[1mlengthscales\u001b[0m transform:+ve prior:None\n",
      "[  8.071288     2.87372239  10.78976216   8.30331504  20.76789867]\n"
     ]
    }
   ],
   "source": [
    "print(mdiag.kern)"
   ]
  },
  {
   "cell_type": "code",
   "execution_count": 8,
   "metadata": {
    "collapsed": false
   },
   "outputs": [
    {
     "name": "stdout",
     "output_type": "stream",
     "text": [
      "kern.\u001b[1mlengthscales\u001b[0m transform:+ve prior:None\n",
      "[  9.29654292   3.31057224   9.21145869  12.21376071  13.5914863 ]\n",
      "kern.\u001b[1mvariance\u001b[0m transform:+ve prior:None\n",
      "[ 4.58718212]\n"
     ]
    }
   ],
   "source": [
    "print(mfull.kern)"
   ]
  },
  {
   "cell_type": "markdown",
   "metadata": {},
   "source": [
    "### Compute and sensitivity to input\n",
    "Sensitivity is a measure of the importance of each latent dimension. "
   ]
  },
  {
   "cell_type": "code",
   "execution_count": 30,
   "metadata": {
    "collapsed": false
   },
   "outputs": [
    {
     "name": "stdout",
     "output_type": "stream",
     "text": [
      "[ 0.19063005  0.5354136   0.14260092  0.1853031   0.07408694]\n",
      "[ 0.23038357  0.64694882  0.23251158  0.17535719  0.15758179]\n"
     ]
    },
    {
     "data": {
      "image/png": "[encoded data removed]",
      "text/plain": [
       "<matplotlib.figure.Figure at 0x12a218ef0>"
      ]
     },
     "metadata": {},
     "output_type": "display_data"
    }
   ],
   "source": [
    "colours = ['b', 'y']\n",
    "labels = ['diag', 'full']\n",
    "for i, m in enumerate([mdiag, mfull]):\n",
    "    kern = m.kern\n",
    "    sens = np.sqrt(kern.variance.value)/kern.lengthscales.value\n",
    "    print(sens)\n",
    "    #fig, ax = plt.subplots()\n",
    "    plt.bar(np.arange(len(kern.lengthscales.value)) + 0.1 * i , sens, 0.1, color=colours[i], label=labels[i])\n",
    "    plt.legend()\n",
    "    plt.title('Sensitivity to latent inputs')"
   ]
  },
  {
   "cell_type": "markdown",
   "metadata": {},
   "source": [
    "### Plotting vs PCA\n",
    "We see that using the 2 more relevant dimensions, the Bayesian GPLVM is able to seperate the\n",
    "three classes while PCA cannot."
   ]
  },
  {
   "cell_type": "code",
   "execution_count": 10,
   "metadata": {
    "collapsed": false
   },
   "outputs": [
    {
     "data": {
      "image/png": "[encoded data removed]",
      "text/plain": [
       "<matplotlib.figure.Figure at 0x12797a518>"
      ]
     },
     "metadata": {},
     "output_type": "display_data"
    }
   ],
   "source": [
    "XPCAplot = GPflow.gplvm.PCA_reduce(data['X'], 2)\n",
    "f, ax = plt.subplots(1,3, figsize=(14,6))\n",
    "labels=data['Y'].argmax(axis=1)\n",
    "colors = cm.rainbow(np.linspace(0, 1, len(np.unique(labels))))\n",
    "\n",
    "for i, c in zip(np.unique(labels), colors):\n",
    "    ax[0].scatter(XPCAplot[labels==i,0], XPCAplot[labels==i,1], color=c, label=i)\n",
    "    ax[0].set_title('PCA')\n",
    "    ax[1].scatter(mdiag.X_mean.value[labels==i,1], mdiag.X_mean.value[labels==i,2], color=c, label=i)\n",
    "    ax[1].set_title('Bayesian GPLVM - diag')\n",
    "    ax[2].scatter(mfull.X_mean.value[labels==i,1], mfull.X_mean.value[labels==i,2], color=c, label=i)\n",
    "    ax[2].set_title('Bayesian GPLVM - full')"
   ]
  },
  {
   "cell_type": "code",
   "execution_count": null,
   "metadata": {
    "collapsed": true
   },
   "outputs": [],
   "source": []
  }
 ],
 "metadata": {
  "anaconda-cloud": {},
  "kernelspec": {
   "display_name": "Python 3",
   "language": "python",
   "name": "python3"
  },
  "language_info": {
   "codemirror_mode": {
    "name": "ipython",
    "version": 3
   },
   "file_extension": ".py",
   "mimetype": "text/x-python",
   "name": "python",
   "nbconvert_exporter": "python",
   "pygments_lexer": "ipython3",
   "version": "3.5.2"
  }
 },
 "nbformat": 4,
 "nbformat_minor": 0
}
