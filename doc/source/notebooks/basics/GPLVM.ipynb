{
 "cells": [
  {
   "cell_type": "markdown",
   "metadata": {},
   "source": [
    "Bayesian GPLVM\n",
    "--\n",
    "This notebook shows how to use the Bayesian GPLVM model. GPLVM stands for Gaussian Process Latent Variable Model. It is an unsupervised learning method usually used for dimensionality reduction. For an in depth overview of GPLVMs please refer to *[1, 2]*."
   ]
  },
  {
   "cell_type": "code",
   "execution_count": 15,
   "metadata": {
    "ExecuteTime": {
     "end_time": "2018-06-19T09:41:37.159594Z",
     "start_time": "2018-06-19T09:41:36.178948Z"
    }
   },
   "outputs": [],
   "source": [
    "import gpflow\n",
    "from gpflow.util import training_loop\n",
    "import tensorflow as tf\n",
    "import numpy as np\n",
    "\n",
    "import matplotlib.pyplot as plt\n",
    "%matplotlib inline"
   ]
  },
  {
   "cell_type": "markdown",
   "metadata": {},
   "source": [
    "### Data\n",
    "\n",
    "We are using the \"three phase oil flow\" data set used initially for demonstrating the Generative Topographic mapping from *[3]*."
   ]
  },
  {
   "cell_type": "code",
   "execution_count": 16,
   "metadata": {
    "ExecuteTime": {
     "end_time": "2018-06-19T09:41:37.164944Z",
     "start_time": "2018-06-19T09:41:37.160737Z"
    }
   },
   "outputs": [
    {
     "name": "stdout",
     "output_type": "stream",
     "text": [
      "Number of points: 100 and Number of dimensions: 12\n"
     ]
    }
   ],
   "source": [
    "data = np.load('./data/three_phase_oil_flow.npz')\n",
    "Y = data['Y']  # following the GPflow notation we assume this dataset has size [num_data, output_dim]\n",
    "labels = data['labels']  # integer in [0, 2] indicating to which class the datapoint belongs [num_data,]. Not used for model fitting, only for plotting afterwards.\n",
    "\n",
    "print('Number of points: {} and Number of dimensions: {}'.format(Y.shape[0], Y.shape[1]))"
   ]
  },
  {
   "cell_type": "markdown",
   "metadata": {},
   "source": [
    "### Model construction\n",
    "\n",
    "We start by initialising the required variables"
   ]
  },
  {
   "cell_type": "code",
   "execution_count": 17,
   "metadata": {
    "ExecuteTime": {
     "end_time": "2018-06-19T09:42:12.018601Z",
     "start_time": "2018-06-19T09:41:37.165915Z"
    },
    "scrolled": false
   },
   "outputs": [],
   "source": [
    "latent_dim = 2 # number of latent dimensions\n",
    "num_inducing = 20  # number of inducing pts\n",
    "num_data = Y.shape[0] # number of data points\n",
    "X_mean_init = gpflow.models.gplvm.PCA_reduce(Y, latent_dim) # Initialise via PCA\n",
    "X_var_init = np.ones((num_data, latent_dim))\n",
    "Z_inducing_inputs_init = np.random.permutation(X_mean_init.copy())[:num_inducing] # Pick inducing inputs from dataset initialisation"
   ]
  },
  {
   "cell_type": "markdown",
   "metadata": {},
   "source": [
    "We construct a RBF kernel operating on the two-dimensional latent space. \n",
    "The `ARD` parameters stands for 'Automatic Relevence Determination', which in practice means that\n",
    "we learn a different lengthscale for each of the input dimensions, see [kernels](kernels)."
   ]
  },
  {
   "cell_type": "code",
   "execution_count": 18,
   "metadata": {},
   "outputs": [],
   "source": [
    "kernel = gpflow.kernels.RBF(ard=True)"
   ]
  },
  {
   "cell_type": "markdown",
   "metadata": {},
   "source": [
    "We have all the necesarry ingredients to construct the model. GPflow contains an implementation of the Bayesian GPLVM "
   ]
  },
  {
   "cell_type": "code",
   "execution_count": 19,
   "metadata": {},
   "outputs": [],
   "source": [
    "m = gpflow.models.gplvm.BayesianGPLVM(\n",
    "    X_mean=X_mean_init,\n",
    "    X_var=X_var_init,\n",
    "    Y=Y,\n",
    "    kernel=kernel,\n",
    "    feature=Z_inducing_inputs_init\n",
    ")\n",
    "\n",
    "# we change the default likelihood variance, which is 1, to 0.01.\n",
    "m.likelihood.variance = 0.01"
   ]
  },
  {
   "cell_type": "markdown",
   "metadata": {},
   "source": [
    "Optimise the created model. Given that his model has a deterministic ELBO we can use Scipy's L-BFGS optimiser."
   ]
  },
  {
   "cell_type": "code",
   "execution_count": 20,
   "metadata": {
    "ExecuteTime": {
     "end_time": "2018-06-19T09:42:12.018601Z",
     "start_time": "2018-06-19T09:41:37.165915Z"
    },
    "scrolled": false
   },
   "outputs": [
    {
     "name": "stderr",
     "output_type": "stream",
     "text": [
      "WARNING: Logging before flag parsing goes to stderr.\n",
      "W0412 15:30:47.647732 140140513019712 tf_logging.py:161] Entity <bound method Dispatcher.__call__ of <dispatched expectation>> could not be transformed and will be staged without change. Error details can be found in the logs when running with the env variable AUTOGRAPH_VERBOSITY >= 1. Please report this to the AutoGraph team. Cause: KeyError during conversion: DEFINED_VARS_IN\n",
      "W0412 15:30:47.718263 140140513019712 tf_logging.py:161] Entity <bound method Dispatcher.__call__ of <dispatched expectation>> could not be transformed and will be staged without change. Error details can be found in the logs when running with the env variable AUTOGRAPH_VERBOSITY >= 1. Please report this to the AutoGraph team. Cause: KeyError during conversion: DEFINED_VARS_IN\n",
      "W0412 15:30:47.798667 140140513019712 tf_logging.py:161] Entity <bound method Dispatcher.__call__ of <dispatched expectation>> could not be transformed and will be staged without change. Error details can be found in the logs when running with the env variable AUTOGRAPH_VERBOSITY >= 1. Please report this to the AutoGraph team. Cause: KeyError during conversion: DEFINED_VARS_IN\n"
     ]
    },
    {
     "name": "stdout",
     "output_type": "stream",
     "text": [
      "WARNING: Entity <bound method Dispatcher.__call__ of <dispatched expectation>> could not be transformed and will be staged without change. Error details can be found in the logs when running with the env variable AUTOGRAPH_VERBOSITY >= 1. Please report this to the AutoGraph team. Cause: KeyError during conversion: DEFINED_VARS_IN\n",
      "WARNING: Entity <bound method Dispatcher.__call__ of <dispatched expectation>> could not be transformed and will be staged without change. Error details can be found in the logs when running with the env variable AUTOGRAPH_VERBOSITY >= 1. Please report this to the AutoGraph team. Cause: KeyError during conversion: DEFINED_VARS_IN\n",
      "WARNING: Entity <bound method Dispatcher.__call__ of <dispatched expectation>> could not be transformed and will be staged without change. Error details can be found in the logs when running with the env variable AUTOGRAPH_VERBOSITY >= 1. Please report this to the AutoGraph team. Cause: KeyError during conversion: DEFINED_VARS_IN\n"
     ]
    },
    {
     "name": "stderr",
     "output_type": "stream",
     "text": [
      "W0412 15:30:47.911683 140140513019712 tf_logging.py:161] Entity <bound method Dispatcher.__call__ of <dispatched Kuu>> could not be transformed and will be staged without change. Error details can be found in the logs when running with the env variable AUTOGRAPH_VERBOSITY >= 1. Please report this to the AutoGraph team. Cause: KeyError during conversion: DEFINED_VARS_IN\n"
     ]
    },
    {
     "name": "stdout",
     "output_type": "stream",
     "text": [
      "WARNING: Entity <bound method Dispatcher.__call__ of <dispatched Kuu>> could not be transformed and will be staged without change. Error details can be found in the logs when running with the env variable AUTOGRAPH_VERBOSITY >= 1. Please report this to the AutoGraph team. Cause: KeyError during conversion: DEFINED_VARS_IN\n"
     ]
    },
    {
     "name": "stderr",
     "output_type": "stream",
     "text": [
      "W0412 15:30:48.416593 140140513019712 deprecation.py:323] From /home/sergio.diaz/tf2/lib/python3.6/site-packages/tensorflow/python/ops/math_grad.py:175: setdiff1d (from tensorflow.python.ops.array_ops) is deprecated and will be removed after 2018-11-30.\n",
      "Instructions for updating:\n",
      "This op will be removed after the deprecation date. Please switch to tf.sets.difference().\n",
      "W0412 15:30:48.948943 140140513019712 tf_logging.py:161] Entity <bound method Dispatcher.__call__ of <dispatched expectation>> could not be transformed and will be staged without change. Error details can be found in the logs when running with the env variable AUTOGRAPH_VERBOSITY >= 1. Please report this to the AutoGraph team. Cause: KeyError during conversion: DEFINED_VARS_IN\n",
      "W0412 15:30:49.019256 140140513019712 tf_logging.py:161] Entity <bound method Dispatcher.__call__ of <dispatched expectation>> could not be transformed and will be staged without change. Error details can be found in the logs when running with the env variable AUTOGRAPH_VERBOSITY >= 1. Please report this to the AutoGraph team. Cause: KeyError during conversion: DEFINED_VARS_IN\n",
      "W0412 15:30:49.105187 140140513019712 tf_logging.py:161] Entity <bound method Dispatcher.__call__ of <dispatched expectation>> could not be transformed and will be staged without change. Error details can be found in the logs when running with the env variable AUTOGRAPH_VERBOSITY >= 1. Please report this to the AutoGraph team. Cause: KeyError during conversion: DEFINED_VARS_IN\n"
     ]
    },
    {
     "name": "stdout",
     "output_type": "stream",
     "text": [
      "WARNING: Entity <bound method Dispatcher.__call__ of <dispatched expectation>> could not be transformed and will be staged without change. Error details can be found in the logs when running with the env variable AUTOGRAPH_VERBOSITY >= 1. Please report this to the AutoGraph team. Cause: KeyError during conversion: DEFINED_VARS_IN\n",
      "WARNING: Entity <bound method Dispatcher.__call__ of <dispatched expectation>> could not be transformed and will be staged without change. Error details can be found in the logs when running with the env variable AUTOGRAPH_VERBOSITY >= 1. Please report this to the AutoGraph team. Cause: KeyError during conversion: DEFINED_VARS_IN\n",
      "WARNING: Entity <bound method Dispatcher.__call__ of <dispatched expectation>> could not be transformed and will be staged without change. Error details can be found in the logs when running with the env variable AUTOGRAPH_VERBOSITY >= 1. Please report this to the AutoGraph team. Cause: KeyError during conversion: DEFINED_VARS_IN\n"
     ]
    },
    {
     "name": "stderr",
     "output_type": "stream",
     "text": [
      "W0412 15:30:49.283093 140140513019712 tf_logging.py:161] Entity <bound method Dispatcher.__call__ of <dispatched Kuu>> could not be transformed and will be staged without change. Error details can be found in the logs when running with the env variable AUTOGRAPH_VERBOSITY >= 1. Please report this to the AutoGraph team. Cause: KeyError during conversion: DEFINED_VARS_IN\n"
     ]
    },
    {
     "name": "stdout",
     "output_type": "stream",
     "text": [
      "WARNING: Entity <bound method Dispatcher.__call__ of <dispatched Kuu>> could not be transformed and will be staged without change. Error details can be found in the logs when running with the env variable AUTOGRAPH_VERBOSITY >= 1. Please report this to the AutoGraph team. Cause: KeyError during conversion: DEFINED_VARS_IN\n"
     ]
    }
   ],
   "source": [
    "def closure():\n",
    "    return m.neg_log_marginal_likelihood()\n",
    "\n",
    "training_loop(closure, optimizer=tf.optimizers.Adam(), var_list=m.trainable_variables, maxiter=10000)"
   ]
  },
  {
   "cell_type": "markdown",
   "metadata": {},
   "source": [
    "### Analyse model\n",
    "GPflow allows you to inspect the learned model hyper-parameters."
   ]
  },
  {
   "cell_type": "code",
   "execution_count": 21,
   "metadata": {
    "ExecuteTime": {
     "end_time": "2018-06-19T09:42:12.050803Z",
     "start_time": "2018-06-19T09:42:12.027308Z"
    }
   },
   "outputs": [
    {
     "data": {
      "text/plain": [
       "<gpflow.models.gplvm.BayesianGPLVM at 0x7f749c317ef0>"
      ]
     },
     "execution_count": 21,
     "metadata": {},
     "output_type": "execute_result"
    }
   ],
   "source": [
    "m"
   ]
  },
  {
   "cell_type": "markdown",
   "metadata": {},
   "source": [
    "### Plotting vs PCA\n",
    "The dimensionality reduction of the dataset to a two-dimesional space allows us to visualise the learned manifold.\n",
    "We compare the Bayesian GPLVM's latent space to the deterministic PCA's one."
   ]
  },
  {
   "cell_type": "code",
   "execution_count": 23,
   "metadata": {
    "ExecuteTime": {
     "end_time": "2018-06-19T09:42:12.370753Z",
     "start_time": "2018-06-19T09:42:12.184055Z"
    }
   },
   "outputs": [
    {
     "data": {
      "image/png": "[encoded data removed]",
      "text/plain": [
       "<Figure size 720x432 with 2 Axes>"
      ]
     },
     "metadata": {
      "needs_background": "light"
     },
     "output_type": "display_data"
    }
   ],
   "source": [
    "XPCAplot = gpflow.models.PCA_reduce(Y, 2)\n",
    "# when a model is trained we can access the values from the tensor as a `np.ndarray` using `read_value()`.\n",
    "GPLVM_X_mean = m.X_mean.read_value()\n",
    "\n",
    "f, ax = plt.subplots(1, 2, figsize=(10,6))\n",
    "\n",
    "for i in np.unique(labels):\n",
    "    ax[0].scatter(XPCAplot[labels==i, 0], XPCAplot[labels==i, 1], label=i)\n",
    "    ax[1].scatter(GPLVM_X_mean.numpy()[labels==i, 0], GPLVM_X_mean.numpy()[labels==i, 1], label=i)\n",
    "    ax[0].set_title('PCA')\n",
    "    ax[1].set_title('Bayesian GPLVM')\n",
    "    "
   ]
  },
  {
   "cell_type": "markdown",
   "metadata": {},
   "source": [
    "### References:\n",
    "\\[1\\] Lawrence, Neil D. \"Gaussian process latent variable models for visualisation of high dimensional data.\" Advances in neural information processing systems. 2004.\n",
    "\n",
    "\\[2\\] Titsias, Michalis, and Neil D. Lawrence. \"Bayesian Gaussian process latent variable model.\" Proceedings of the Thirteenth International Conference on Artificial Intelligence and Statistics. 2010.\n",
    "\n",
    "\\[3\\] Bishop, Christopher M., and Gwilym D. James. \"Analysis of multiphase flows using dual-energy gamma densitometry and neural networks.\" Nuclear Instruments and Methods in Physics Research Section A: Accelerators, Spectrometers, Detectors and Associated Equipment 327.2-3 (1993): 580-593."
   ]
  },
  {
   "cell_type": "code",
   "execution_count": null,
   "metadata": {},
   "outputs": [],
   "source": []
  }
 ],
 "metadata": {
  "anaconda-cloud": {},
  "kernelspec": {
   "display_name": "Python 3",
   "language": "python",
   "name": "python3"
  },
  "language_info": {
   "codemirror_mode": {
    "name": "ipython",
    "version": 3
   },
   "file_extension": ".py",
   "mimetype": "text/x-python",
   "name": "python",
   "nbconvert_exporter": "python",
   "pygments_lexer": "ipython3",
   "version": "3.6.7"
  }
 },
 "nbformat": 4,
 "nbformat_minor": 2
}
