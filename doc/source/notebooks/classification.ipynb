{
 "cells": [
  {
   "cell_type": "markdown",
   "metadata": {
    "collapsed": true
   },
   "source": [
    "Classification in GPflow\n",
    "--\n",
    "\n",
    "*Alexander G. de G. Matthews and James Hensman 2016*\n",
    "\n",
    "This script replicates \n",
    "\n",
    "Hensman, Matthews, Ghahramani, AISTATS 2015, Scalable Variational Gaussian Process Classification, Figure 1 Row 1.\n",
    "\n",
    "It serves to demonstrate sparse variational GP classification on a simple, easily visualized dataset."
   ]
  },
  {
   "cell_type": "code",
   "execution_count": 1,
   "metadata": {
    "collapsed": true
   },
   "outputs": [],
   "source": [
    "from matplotlib import pyplot as plt\n",
    "plt.style.use('ggplot')\n",
    "%matplotlib inline\n",
    "import sys\n",
    "import csv\n",
    "import numpy as np\n",
    "import gpflow"
   ]
  },
  {
   "cell_type": "code",
   "execution_count": 2,
   "metadata": {
    "collapsed": true
   },
   "outputs": [],
   "source": [
    "Xtrain = np.loadtxt('data/banana_X_train', delimiter=',')\n",
    "Ytrain = np.loadtxt('data/banana_Y_train', delimiter=',').reshape(-1,1)\n"
   ]
  },
  {
   "cell_type": "code",
   "execution_count": null,
   "metadata": {
    "collapsed": true
   },
   "outputs": [],
   "source": [
    "def gridParams():\n",
    "    mins = [-3.25,-2.85 ] \n",
    "    maxs = [ 3.65, 3.4 ]\n",
    "    nGrid = 50\n",
    "    xspaced = np.linspace( mins[0], maxs[0], nGrid )\n",
    "    yspaced = np.linspace( mins[1], maxs[1], nGrid )\n",
    "    xx, yy = np.meshgrid( xspaced, yspaced )\n",
    "    Xplot = np.vstack((xx.flatten(),yy.flatten())).T\n",
    "    return mins, maxs, xx, yy, Xplot\n",
    "     \n",
    "def plot(m, ax):\n",
    "    col1 = '#0172B2'\n",
    "    col2 = '#CC6600'\n",
    "    mins, maxs, xx, yy, Xplot = gridParams()\n",
    "    p = m.predict_y(Xplot)[0]\n",
    "    ax.plot(Xtrain[:,0][Ytrain[:,0]==1], Xtrain[:,1][Ytrain[:,0]==1], 'o', color=col1, mew=0, alpha=0.5)\n",
    "    ax.plot(Xtrain[:,0][Ytrain[:,0]==0], Xtrain[:,1][Ytrain[:,0]==0], 'o', color=col2, mew=0, alpha=0.5)\n",
    "    if hasattr(m, 'Z'):\n",
    "        ax.plot(m.Z.value[:,0], m.Z.value[:,1], 'ko', mew=0, ms=4)\n",
    "    ax.contour(xx, yy, p.reshape(*xx.shape), [0.5], colors='k', linewidths=1.8, zorder=100)\n"
   ]
  },
  {
   "cell_type": "code",
   "execution_count": null,
   "metadata": {
    "collapsed": false
   },
   "outputs": [
    {
     "name": "stdout",
     "output_type": "stream",
     "text": [
      "Step 1\n"
     ]
    }
   ],
   "source": [
    "# Setup the experiment and plotting.\n",
    "Ms = [4, 8, 16, 32, 64]\n",
    "\n",
    "\n",
    "# Run sparse classification with increasing number of inducing points\n",
    "models = []\n",
    "for index, num_inducing in enumerate(Ms):\n",
    "    # kmeans for selecting Z\n",
    "    from scipy.cluster.vq import kmeans\n",
    "    Z = kmeans(Xtrain, num_inducing)[0]\n",
    "\n",
    "    model_name = 'SVGP_{index}'.format(index=index)\n",
    "    m = gpflow.models.SVGP(Xtrain, Ytrain,\n",
    "                           kern=gpflow.kernels.RBF(2),\n",
    "                           likelihood=gpflow.likelihoods.Gaussian(),\n",
    "                           Z=Z,\n",
    "                           name=model_name)\n",
    "    #Initially fix the hyperparameters.\n",
    "    print(\"Step 1\")\n",
    "    m.Z.trainable = True\n",
    "    m.compile()\n",
    "    opt = gpflow.train.ScipyOptimizer(options={'maxiter': 20})\n",
    "    opt.minimize(m)\n",
    "\n",
    "    print(\"Step 2\")\n",
    "    #Unfix the hyperparameters.\n",
    "    m.Z.trainable = False\n",
    "    opt = gpflow.train.ScipyOptimizer(options={'maxiter': 20})\n",
    "    opt.minimize(m)\n",
    "\n",
    "\n",
    "\n"
   ]
  },
  {
   "cell_type": "code",
   "execution_count": null,
   "metadata": {
    "collapsed": false
   },
   "outputs": [],
   "source": [
    "#Run variational approximation without sparsity..\n",
    "#..be aware that this is much slower.\n",
    "m = gpflow.models.VGP(Xtrain, Ytrain,\n",
    "                   kern=gpflow.kernels.RBF(2),\n",
    "                   likelihood=gpflow.likelihoods.Bernoulli())\n",
    "m.optimize(maxiter=2000)\n",
    "models.append(m)\n"
   ]
  },
  {
   "cell_type": "code",
   "execution_count": null,
   "metadata": {
    "collapsed": false
   },
   "outputs": [],
   "source": [
    "# make plots.\n",
    "fig, axes = plt.subplots(1, len(models), figsize=(12.5, 2.5), sharex=True, sharey=True)\n",
    "for i, m in enumerate(models):\n",
    "    plot(m, axes[i])\n",
    "axes[i].set_yticks([])\n",
    "axes[i].set_xticks([])"
   ]
  },
  {
   "cell_type": "code",
   "execution_count": null,
   "metadata": {
    "collapsed": true
   },
   "outputs": [],
   "source": [
    "models = models[:-3] + models[-1:]"
   ]
  },
  {
   "cell_type": "code",
   "execution_count": null,
   "metadata": {
    "collapsed": true
   },
   "outputs": [],
   "source": []
  }
 ],
 "metadata": {
  "anaconda-cloud": {},
  "kernelspec": {
   "display_name": "Python [conda env:car]",
   "language": "python",
   "name": "conda-env-car-py"
  },
  "language_info": {
   "codemirror_mode": {
    "name": "ipython",
    "version": 3
   },
   "file_extension": ".py",
   "mimetype": "text/x-python",
   "name": "python",
   "nbconvert_exporter": "python",
   "pygments_lexer": "ipython3",
   "version": "3.5.2"
  }
 },
 "nbformat": 4,
 "nbformat_minor": 0
}
